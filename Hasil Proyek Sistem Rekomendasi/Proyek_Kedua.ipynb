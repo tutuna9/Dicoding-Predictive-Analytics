{
  "nbformat": 4,
  "nbformat_minor": 0,
  "metadata": {
    "colab": {
      "name": "Proyek Kedua.ipynb",
      "provenance": []
    },
    "kernelspec": {
      "name": "python3",
      "display_name": "Python 3"
    },
    "language_info": {
      "name": "python"
    },
    "accelerator": "GPU"
  },
  "cells": [
    {
      "cell_type": "markdown",
      "source": [
        "# Sitem Rekomendasi"
      ],
      "metadata": {
        "id": "rE7hmzeNLDRd"
      }
    },
    {
      "cell_type": "markdown",
      "source": [
        "## Data Loading"
      ],
      "metadata": {
        "id": "txrRQkTNLM3r"
      }
    },
    {
      "cell_type": "code",
      "execution_count": 1,
      "metadata": {
        "id": "RiqDeyofLotw"
      },
      "outputs": [],
      "source": [
        "import os\n",
        "os.environ['KAGGLE_USERNAME'] = \"ichsannuriman\"\n",
        "os.environ['KAGGLE_KEY'] = \"e20dd538318e3a23d0bbfdf1e29fbdb8\""
      ]
    },
    {
      "cell_type": "code",
      "source": [
        "!kaggle datasets download -d CooperUnion/anime-recommendations-database"
      ],
      "metadata": {
        "colab": {
          "base_uri": "https://localhost:8080/"
        },
        "id": "SjvdVKNSY1E0",
        "outputId": "f4f35cf5-c0d3-4a17-8997-df12fdc30849"
      },
      "execution_count": 2,
      "outputs": [
        {
          "output_type": "stream",
          "name": "stdout",
          "text": [
            "Downloading anime-recommendations-database.zip to /content\n",
            " 68% 17.0M/25.0M [00:00<00:00, 14.9MB/s]\n",
            "100% 25.0M/25.0M [00:00<00:00, 27.2MB/s]\n"
          ]
        }
      ]
    },
    {
      "cell_type": "code",
      "source": [
        "!unzip -q anime-recommendations-database.zip -d ."
      ],
      "metadata": {
        "id": "hWmxJDuEZQLV"
      },
      "execution_count": 3,
      "outputs": []
    },
    {
      "cell_type": "code",
      "source": [
        "import pandas as pd\n",
        "import numpy as np \n",
        "from zipfile import ZipFile\n",
        "import tensorflow as tf\n",
        "from tensorflow import keras\n",
        "from tensorflow.keras import layers\n",
        "from pathlib import Path\n",
        "import matplotlib.pyplot as plt\n",
        "from sklearn.feature_extraction.text import TfidfVectorizer"
      ],
      "metadata": {
        "id": "Cp6GWrAUZfkE"
      },
      "execution_count": 4,
      "outputs": []
    },
    {
      "cell_type": "markdown",
      "source": [
        "## Data Understanding"
      ],
      "metadata": {
        "id": "fADzpfBALRzK"
      }
    },
    {
      "cell_type": "code",
      "source": [
        "anime = pd.read_csv('/content/anime.csv')\n",
        "rating = pd.read_csv('/content/rating.csv')\n",
        "\n",
        "print('Jumlah data nama anime: ', len(anime.name.unique()))\n",
        "print('Jumlah data user yang memberi rating: ', len(rating.user_id.unique()))"
      ],
      "metadata": {
        "colab": {
          "base_uri": "https://localhost:8080/"
        },
        "id": "z4l88jy1Zlfk",
        "outputId": "70c01080-2e43-4f88-9cd2-319e03b0f220"
      },
      "execution_count": 5,
      "outputs": [
        {
          "output_type": "stream",
          "name": "stdout",
          "text": [
            "Jumlah data nama anime:  12292\n",
            "Jumlah data user yang memberi rating:  73515\n"
          ]
        }
      ]
    },
    {
      "cell_type": "markdown",
      "source": [
        "## Univariate Analysis and Data Preparation"
      ],
      "metadata": {
        "id": "RjeO0zeKMl0k"
      }
    },
    {
      "cell_type": "markdown",
      "source": [
        "### Informasi Dataframe anime.csv"
      ],
      "metadata": {
        "id": "YNmsfuzpLgAT"
      }
    },
    {
      "cell_type": "code",
      "source": [
        "anime.info()"
      ],
      "metadata": {
        "colab": {
          "base_uri": "https://localhost:8080/"
        },
        "id": "ki_I3pvVc5hn",
        "outputId": "b7752f59-bcab-470a-fe0a-c8bfc4d4dfc4"
      },
      "execution_count": 6,
      "outputs": [
        {
          "output_type": "stream",
          "name": "stdout",
          "text": [
            "<class 'pandas.core.frame.DataFrame'>\n",
            "RangeIndex: 12294 entries, 0 to 12293\n",
            "Data columns (total 7 columns):\n",
            " #   Column    Non-Null Count  Dtype  \n",
            "---  ------    --------------  -----  \n",
            " 0   anime_id  12294 non-null  int64  \n",
            " 1   name      12294 non-null  object \n",
            " 2   genre     12232 non-null  object \n",
            " 3   type      12269 non-null  object \n",
            " 4   episodes  12294 non-null  object \n",
            " 5   rating    12064 non-null  float64\n",
            " 6   members   12294 non-null  int64  \n",
            "dtypes: float64(1), int64(2), object(4)\n",
            "memory usage: 672.5+ KB\n"
          ]
        }
      ]
    },
    {
      "cell_type": "code",
      "source": [
        "print('Banyak anime: ', len(anime.name.unique()))\n",
        "print('Genre anime: ', anime.genre.unique())"
      ],
      "metadata": {
        "colab": {
          "base_uri": "https://localhost:8080/"
        },
        "id": "Ig_ih2TbfwVC",
        "outputId": "e9a02040-6e03-4e64-f143-2f6d588c17bd"
      },
      "execution_count": 7,
      "outputs": [
        {
          "output_type": "stream",
          "name": "stdout",
          "text": [
            "Banyak anime:  12292\n",
            "Genre anime:  ['Drama, Romance, School, Supernatural'\n",
            " 'Action, Adventure, Drama, Fantasy, Magic, Military, Shounen'\n",
            " 'Action, Comedy, Historical, Parody, Samurai, Sci-Fi, Shounen' ...\n",
            " 'Hentai, Sports' 'Drama, Romance, School, Yuri' 'Hentai, Slice of Life']\n"
          ]
        }
      ]
    },
    {
      "cell_type": "code",
      "source": [
        "anime"
      ],
      "metadata": {
        "colab": {
          "base_uri": "https://localhost:8080/",
          "height": 423
        },
        "id": "lrjVi633lY1d",
        "outputId": "b92bb74f-2dac-4cd1-be42-e96b6411080c"
      },
      "execution_count": 8,
      "outputs": [
        {
          "output_type": "execute_result",
          "data": {
            "text/html": [
              "<div>\n",
              "<style scoped>\n",
              "    .dataframe tbody tr th:only-of-type {\n",
              "        vertical-align: middle;\n",
              "    }\n",
              "\n",
              "    .dataframe tbody tr th {\n",
              "        vertical-align: top;\n",
              "    }\n",
              "\n",
              "    .dataframe thead th {\n",
              "        text-align: right;\n",
              "    }\n",
              "</style>\n",
              "<table border=\"1\" class=\"dataframe\">\n",
              "  <thead>\n",
              "    <tr style=\"text-align: right;\">\n",
              "      <th></th>\n",
              "      <th>anime_id</th>\n",
              "      <th>name</th>\n",
              "      <th>genre</th>\n",
              "      <th>type</th>\n",
              "      <th>episodes</th>\n",
              "      <th>rating</th>\n",
              "      <th>members</th>\n",
              "    </tr>\n",
              "  </thead>\n",
              "  <tbody>\n",
              "    <tr>\n",
              "      <th>0</th>\n",
              "      <td>32281</td>\n",
              "      <td>Kimi no Na wa.</td>\n",
              "      <td>Drama, Romance, School, Supernatural</td>\n",
              "      <td>Movie</td>\n",
              "      <td>1</td>\n",
              "      <td>9.37</td>\n",
              "      <td>200630</td>\n",
              "    </tr>\n",
              "    <tr>\n",
              "      <th>1</th>\n",
              "      <td>5114</td>\n",
              "      <td>Fullmetal Alchemist: Brotherhood</td>\n",
              "      <td>Action, Adventure, Drama, Fantasy, Magic, Mili...</td>\n",
              "      <td>TV</td>\n",
              "      <td>64</td>\n",
              "      <td>9.26</td>\n",
              "      <td>793665</td>\n",
              "    </tr>\n",
              "    <tr>\n",
              "      <th>2</th>\n",
              "      <td>28977</td>\n",
              "      <td>Gintama°</td>\n",
              "      <td>Action, Comedy, Historical, Parody, Samurai, S...</td>\n",
              "      <td>TV</td>\n",
              "      <td>51</td>\n",
              "      <td>9.25</td>\n",
              "      <td>114262</td>\n",
              "    </tr>\n",
              "    <tr>\n",
              "      <th>3</th>\n",
              "      <td>9253</td>\n",
              "      <td>Steins;Gate</td>\n",
              "      <td>Sci-Fi, Thriller</td>\n",
              "      <td>TV</td>\n",
              "      <td>24</td>\n",
              "      <td>9.17</td>\n",
              "      <td>673572</td>\n",
              "    </tr>\n",
              "    <tr>\n",
              "      <th>4</th>\n",
              "      <td>9969</td>\n",
              "      <td>Gintama&amp;#039;</td>\n",
              "      <td>Action, Comedy, Historical, Parody, Samurai, S...</td>\n",
              "      <td>TV</td>\n",
              "      <td>51</td>\n",
              "      <td>9.16</td>\n",
              "      <td>151266</td>\n",
              "    </tr>\n",
              "    <tr>\n",
              "      <th>...</th>\n",
              "      <td>...</td>\n",
              "      <td>...</td>\n",
              "      <td>...</td>\n",
              "      <td>...</td>\n",
              "      <td>...</td>\n",
              "      <td>...</td>\n",
              "      <td>...</td>\n",
              "    </tr>\n",
              "    <tr>\n",
              "      <th>12289</th>\n",
              "      <td>9316</td>\n",
              "      <td>Toushindai My Lover: Minami tai Mecha-Minami</td>\n",
              "      <td>Hentai</td>\n",
              "      <td>OVA</td>\n",
              "      <td>1</td>\n",
              "      <td>4.15</td>\n",
              "      <td>211</td>\n",
              "    </tr>\n",
              "    <tr>\n",
              "      <th>12290</th>\n",
              "      <td>5543</td>\n",
              "      <td>Under World</td>\n",
              "      <td>Hentai</td>\n",
              "      <td>OVA</td>\n",
              "      <td>1</td>\n",
              "      <td>4.28</td>\n",
              "      <td>183</td>\n",
              "    </tr>\n",
              "    <tr>\n",
              "      <th>12291</th>\n",
              "      <td>5621</td>\n",
              "      <td>Violence Gekiga David no Hoshi</td>\n",
              "      <td>Hentai</td>\n",
              "      <td>OVA</td>\n",
              "      <td>4</td>\n",
              "      <td>4.88</td>\n",
              "      <td>219</td>\n",
              "    </tr>\n",
              "    <tr>\n",
              "      <th>12292</th>\n",
              "      <td>6133</td>\n",
              "      <td>Violence Gekiga Shin David no Hoshi: Inma Dens...</td>\n",
              "      <td>Hentai</td>\n",
              "      <td>OVA</td>\n",
              "      <td>1</td>\n",
              "      <td>4.98</td>\n",
              "      <td>175</td>\n",
              "    </tr>\n",
              "    <tr>\n",
              "      <th>12293</th>\n",
              "      <td>26081</td>\n",
              "      <td>Yasuji no Pornorama: Yacchimae!!</td>\n",
              "      <td>Hentai</td>\n",
              "      <td>Movie</td>\n",
              "      <td>1</td>\n",
              "      <td>5.46</td>\n",
              "      <td>142</td>\n",
              "    </tr>\n",
              "  </tbody>\n",
              "</table>\n",
              "<p>12294 rows × 7 columns</p>\n",
              "</div>"
            ],
            "text/plain": [
              "       anime_id  ... members\n",
              "0         32281  ...  200630\n",
              "1          5114  ...  793665\n",
              "2         28977  ...  114262\n",
              "3          9253  ...  673572\n",
              "4          9969  ...  151266\n",
              "...         ...  ...     ...\n",
              "12289      9316  ...     211\n",
              "12290      5543  ...     183\n",
              "12291      5621  ...     219\n",
              "12292      6133  ...     175\n",
              "12293     26081  ...     142\n",
              "\n",
              "[12294 rows x 7 columns]"
            ]
          },
          "metadata": {},
          "execution_count": 8
        }
      ]
    },
    {
      "cell_type": "markdown",
      "source": [
        "#### Mengatasi Missing Value"
      ],
      "metadata": {
        "id": "-NePxnegL19E"
      }
    },
    {
      "cell_type": "code",
      "source": [
        "anime.isnull().sum()"
      ],
      "metadata": {
        "colab": {
          "base_uri": "https://localhost:8080/"
        },
        "id": "wjOg_1fVnNqN",
        "outputId": "8bd9d0f3-c370-48a6-ebb7-169a00efa43a"
      },
      "execution_count": 9,
      "outputs": [
        {
          "output_type": "execute_result",
          "data": {
            "text/plain": [
              "anime_id      0\n",
              "name          0\n",
              "genre        62\n",
              "type         25\n",
              "episodes      0\n",
              "rating      230\n",
              "members       0\n",
              "dtype: int64"
            ]
          },
          "metadata": {},
          "execution_count": 9
        }
      ]
    },
    {
      "cell_type": "code",
      "source": [
        "anime =  anime.dropna()\n",
        "anime.isnull().sum()"
      ],
      "metadata": {
        "colab": {
          "base_uri": "https://localhost:8080/"
        },
        "id": "sfqmt81Co-0F",
        "outputId": "d92d0387-3a36-4f3d-83f2-83fff14f50ac"
      },
      "execution_count": 10,
      "outputs": [
        {
          "output_type": "execute_result",
          "data": {
            "text/plain": [
              "anime_id    0\n",
              "name        0\n",
              "genre       0\n",
              "type        0\n",
              "episodes    0\n",
              "rating      0\n",
              "members     0\n",
              "dtype: int64"
            ]
          },
          "metadata": {},
          "execution_count": 10
        }
      ]
    },
    {
      "cell_type": "markdown",
      "source": [
        "### Informasi Dataframe rating.csv"
      ],
      "metadata": {
        "id": "5f_byQlxLutD"
      }
    },
    {
      "cell_type": "code",
      "source": [
        "rating.info()"
      ],
      "metadata": {
        "colab": {
          "base_uri": "https://localhost:8080/"
        },
        "id": "U8BqWo8leP8I",
        "outputId": "3a3e293e-827e-4dfc-dbc3-0482e728aafe"
      },
      "execution_count": 11,
      "outputs": [
        {
          "output_type": "stream",
          "name": "stdout",
          "text": [
            "<class 'pandas.core.frame.DataFrame'>\n",
            "RangeIndex: 7813737 entries, 0 to 7813736\n",
            "Data columns (total 3 columns):\n",
            " #   Column    Dtype\n",
            "---  ------    -----\n",
            " 0   user_id   int64\n",
            " 1   anime_id  int64\n",
            " 2   rating    int64\n",
            "dtypes: int64(3)\n",
            "memory usage: 178.8 MB\n"
          ]
        }
      ]
    },
    {
      "cell_type": "code",
      "source": [
        "#Hanya mengambil 2000 jumlah data\n",
        "rating = rating.drop(range(2000, 7813737))\n",
        "rating"
      ],
      "metadata": {
        "id": "kfQn5LbvejvQ",
        "colab": {
          "base_uri": "https://localhost:8080/",
          "height": 423
        },
        "outputId": "e73d9797-8cda-445d-8ef2-f4e95a51738e"
      },
      "execution_count": 12,
      "outputs": [
        {
          "output_type": "execute_result",
          "data": {
            "text/html": [
              "<div>\n",
              "<style scoped>\n",
              "    .dataframe tbody tr th:only-of-type {\n",
              "        vertical-align: middle;\n",
              "    }\n",
              "\n",
              "    .dataframe tbody tr th {\n",
              "        vertical-align: top;\n",
              "    }\n",
              "\n",
              "    .dataframe thead th {\n",
              "        text-align: right;\n",
              "    }\n",
              "</style>\n",
              "<table border=\"1\" class=\"dataframe\">\n",
              "  <thead>\n",
              "    <tr style=\"text-align: right;\">\n",
              "      <th></th>\n",
              "      <th>user_id</th>\n",
              "      <th>anime_id</th>\n",
              "      <th>rating</th>\n",
              "    </tr>\n",
              "  </thead>\n",
              "  <tbody>\n",
              "    <tr>\n",
              "      <th>0</th>\n",
              "      <td>1</td>\n",
              "      <td>20</td>\n",
              "      <td>-1</td>\n",
              "    </tr>\n",
              "    <tr>\n",
              "      <th>1</th>\n",
              "      <td>1</td>\n",
              "      <td>24</td>\n",
              "      <td>-1</td>\n",
              "    </tr>\n",
              "    <tr>\n",
              "      <th>2</th>\n",
              "      <td>1</td>\n",
              "      <td>79</td>\n",
              "      <td>-1</td>\n",
              "    </tr>\n",
              "    <tr>\n",
              "      <th>3</th>\n",
              "      <td>1</td>\n",
              "      <td>226</td>\n",
              "      <td>-1</td>\n",
              "    </tr>\n",
              "    <tr>\n",
              "      <th>4</th>\n",
              "      <td>1</td>\n",
              "      <td>241</td>\n",
              "      <td>-1</td>\n",
              "    </tr>\n",
              "    <tr>\n",
              "      <th>...</th>\n",
              "      <td>...</td>\n",
              "      <td>...</td>\n",
              "      <td>...</td>\n",
              "    </tr>\n",
              "    <tr>\n",
              "      <th>1995</th>\n",
              "      <td>17</td>\n",
              "      <td>20931</td>\n",
              "      <td>5</td>\n",
              "    </tr>\n",
              "    <tr>\n",
              "      <th>1996</th>\n",
              "      <td>17</td>\n",
              "      <td>20939</td>\n",
              "      <td>-1</td>\n",
              "    </tr>\n",
              "    <tr>\n",
              "      <th>1997</th>\n",
              "      <td>17</td>\n",
              "      <td>20965</td>\n",
              "      <td>6</td>\n",
              "    </tr>\n",
              "    <tr>\n",
              "      <th>1998</th>\n",
              "      <td>17</td>\n",
              "      <td>20973</td>\n",
              "      <td>6</td>\n",
              "    </tr>\n",
              "    <tr>\n",
              "      <th>1999</th>\n",
              "      <td>17</td>\n",
              "      <td>20977</td>\n",
              "      <td>-1</td>\n",
              "    </tr>\n",
              "  </tbody>\n",
              "</table>\n",
              "<p>2000 rows × 3 columns</p>\n",
              "</div>"
            ],
            "text/plain": [
              "      user_id  anime_id  rating\n",
              "0           1        20      -1\n",
              "1           1        24      -1\n",
              "2           1        79      -1\n",
              "3           1       226      -1\n",
              "4           1       241      -1\n",
              "...       ...       ...     ...\n",
              "1995       17     20931       5\n",
              "1996       17     20939      -1\n",
              "1997       17     20965       6\n",
              "1998       17     20973       6\n",
              "1999       17     20977      -1\n",
              "\n",
              "[2000 rows x 3 columns]"
            ]
          },
          "metadata": {},
          "execution_count": 12
        }
      ]
    },
    {
      "cell_type": "code",
      "source": [
        "rating[\"rating\"].replace({-1: np.nan}, inplace=True)\n",
        "rating.head()"
      ],
      "metadata": {
        "colab": {
          "base_uri": "https://localhost:8080/",
          "height": 206
        },
        "id": "NWHcQVshhCuD",
        "outputId": "0085ab1d-1856-4c8a-ab53-254768612965"
      },
      "execution_count": 13,
      "outputs": [
        {
          "output_type": "execute_result",
          "data": {
            "text/html": [
              "<div>\n",
              "<style scoped>\n",
              "    .dataframe tbody tr th:only-of-type {\n",
              "        vertical-align: middle;\n",
              "    }\n",
              "\n",
              "    .dataframe tbody tr th {\n",
              "        vertical-align: top;\n",
              "    }\n",
              "\n",
              "    .dataframe thead th {\n",
              "        text-align: right;\n",
              "    }\n",
              "</style>\n",
              "<table border=\"1\" class=\"dataframe\">\n",
              "  <thead>\n",
              "    <tr style=\"text-align: right;\">\n",
              "      <th></th>\n",
              "      <th>user_id</th>\n",
              "      <th>anime_id</th>\n",
              "      <th>rating</th>\n",
              "    </tr>\n",
              "  </thead>\n",
              "  <tbody>\n",
              "    <tr>\n",
              "      <th>0</th>\n",
              "      <td>1</td>\n",
              "      <td>20</td>\n",
              "      <td>NaN</td>\n",
              "    </tr>\n",
              "    <tr>\n",
              "      <th>1</th>\n",
              "      <td>1</td>\n",
              "      <td>24</td>\n",
              "      <td>NaN</td>\n",
              "    </tr>\n",
              "    <tr>\n",
              "      <th>2</th>\n",
              "      <td>1</td>\n",
              "      <td>79</td>\n",
              "      <td>NaN</td>\n",
              "    </tr>\n",
              "    <tr>\n",
              "      <th>3</th>\n",
              "      <td>1</td>\n",
              "      <td>226</td>\n",
              "      <td>NaN</td>\n",
              "    </tr>\n",
              "    <tr>\n",
              "      <th>4</th>\n",
              "      <td>1</td>\n",
              "      <td>241</td>\n",
              "      <td>NaN</td>\n",
              "    </tr>\n",
              "  </tbody>\n",
              "</table>\n",
              "</div>"
            ],
            "text/plain": [
              "   user_id  anime_id  rating\n",
              "0        1        20     NaN\n",
              "1        1        24     NaN\n",
              "2        1        79     NaN\n",
              "3        1       226     NaN\n",
              "4        1       241     NaN"
            ]
          },
          "metadata": {},
          "execution_count": 13
        }
      ]
    },
    {
      "cell_type": "code",
      "source": [
        "rating = rating.dropna(axis = 0, how ='any')\n",
        "rating"
      ],
      "metadata": {
        "colab": {
          "base_uri": "https://localhost:8080/",
          "height": 423
        },
        "id": "4R2H3Y2_hOMK",
        "outputId": "830bb411-7e8a-4354-c3b1-506970d92c2b"
      },
      "execution_count": 14,
      "outputs": [
        {
          "output_type": "execute_result",
          "data": {
            "text/html": [
              "<div>\n",
              "<style scoped>\n",
              "    .dataframe tbody tr th:only-of-type {\n",
              "        vertical-align: middle;\n",
              "    }\n",
              "\n",
              "    .dataframe tbody tr th {\n",
              "        vertical-align: top;\n",
              "    }\n",
              "\n",
              "    .dataframe thead th {\n",
              "        text-align: right;\n",
              "    }\n",
              "</style>\n",
              "<table border=\"1\" class=\"dataframe\">\n",
              "  <thead>\n",
              "    <tr style=\"text-align: right;\">\n",
              "      <th></th>\n",
              "      <th>user_id</th>\n",
              "      <th>anime_id</th>\n",
              "      <th>rating</th>\n",
              "    </tr>\n",
              "  </thead>\n",
              "  <tbody>\n",
              "    <tr>\n",
              "      <th>47</th>\n",
              "      <td>1</td>\n",
              "      <td>8074</td>\n",
              "      <td>10.0</td>\n",
              "    </tr>\n",
              "    <tr>\n",
              "      <th>81</th>\n",
              "      <td>1</td>\n",
              "      <td>11617</td>\n",
              "      <td>10.0</td>\n",
              "    </tr>\n",
              "    <tr>\n",
              "      <th>83</th>\n",
              "      <td>1</td>\n",
              "      <td>11757</td>\n",
              "      <td>10.0</td>\n",
              "    </tr>\n",
              "    <tr>\n",
              "      <th>101</th>\n",
              "      <td>1</td>\n",
              "      <td>15451</td>\n",
              "      <td>10.0</td>\n",
              "    </tr>\n",
              "    <tr>\n",
              "      <th>153</th>\n",
              "      <td>2</td>\n",
              "      <td>11771</td>\n",
              "      <td>10.0</td>\n",
              "    </tr>\n",
              "    <tr>\n",
              "      <th>...</th>\n",
              "      <td>...</td>\n",
              "      <td>...</td>\n",
              "      <td>...</td>\n",
              "    </tr>\n",
              "    <tr>\n",
              "      <th>1993</th>\n",
              "      <td>17</td>\n",
              "      <td>20899</td>\n",
              "      <td>9.0</td>\n",
              "    </tr>\n",
              "    <tr>\n",
              "      <th>1994</th>\n",
              "      <td>17</td>\n",
              "      <td>20903</td>\n",
              "      <td>6.0</td>\n",
              "    </tr>\n",
              "    <tr>\n",
              "      <th>1995</th>\n",
              "      <td>17</td>\n",
              "      <td>20931</td>\n",
              "      <td>5.0</td>\n",
              "    </tr>\n",
              "    <tr>\n",
              "      <th>1997</th>\n",
              "      <td>17</td>\n",
              "      <td>20965</td>\n",
              "      <td>6.0</td>\n",
              "    </tr>\n",
              "    <tr>\n",
              "      <th>1998</th>\n",
              "      <td>17</td>\n",
              "      <td>20973</td>\n",
              "      <td>6.0</td>\n",
              "    </tr>\n",
              "  </tbody>\n",
              "</table>\n",
              "<p>1452 rows × 3 columns</p>\n",
              "</div>"
            ],
            "text/plain": [
              "      user_id  anime_id  rating\n",
              "47          1      8074    10.0\n",
              "81          1     11617    10.0\n",
              "83          1     11757    10.0\n",
              "101         1     15451    10.0\n",
              "153         2     11771    10.0\n",
              "...       ...       ...     ...\n",
              "1993       17     20899     9.0\n",
              "1994       17     20903     6.0\n",
              "1995       17     20931     5.0\n",
              "1997       17     20965     6.0\n",
              "1998       17     20973     6.0\n",
              "\n",
              "[1452 rows x 3 columns]"
            ]
          },
          "metadata": {},
          "execution_count": 14
        }
      ]
    },
    {
      "cell_type": "code",
      "source": [
        "rating.describe()"
      ],
      "metadata": {
        "id": "oaeQdGlGht17",
        "colab": {
          "base_uri": "https://localhost:8080/",
          "height": 300
        },
        "outputId": "ad0534e2-85ff-42c9-e704-de5db7aef74d"
      },
      "execution_count": 15,
      "outputs": [
        {
          "output_type": "execute_result",
          "data": {
            "text/html": [
              "<div>\n",
              "<style scoped>\n",
              "    .dataframe tbody tr th:only-of-type {\n",
              "        vertical-align: middle;\n",
              "    }\n",
              "\n",
              "    .dataframe tbody tr th {\n",
              "        vertical-align: top;\n",
              "    }\n",
              "\n",
              "    .dataframe thead th {\n",
              "        text-align: right;\n",
              "    }\n",
              "</style>\n",
              "<table border=\"1\" class=\"dataframe\">\n",
              "  <thead>\n",
              "    <tr style=\"text-align: right;\">\n",
              "      <th></th>\n",
              "      <th>user_id</th>\n",
              "      <th>anime_id</th>\n",
              "      <th>rating</th>\n",
              "    </tr>\n",
              "  </thead>\n",
              "  <tbody>\n",
              "    <tr>\n",
              "      <th>count</th>\n",
              "      <td>1452.000000</td>\n",
              "      <td>1452.000000</td>\n",
              "      <td>1452.000000</td>\n",
              "    </tr>\n",
              "    <tr>\n",
              "      <th>mean</th>\n",
              "      <td>9.017218</td>\n",
              "      <td>11399.560606</td>\n",
              "      <td>6.409091</td>\n",
              "    </tr>\n",
              "    <tr>\n",
              "      <th>std</th>\n",
              "      <td>4.837865</td>\n",
              "      <td>9031.895302</td>\n",
              "      <td>2.240686</td>\n",
              "    </tr>\n",
              "    <tr>\n",
              "      <th>min</th>\n",
              "      <td>1.000000</td>\n",
              "      <td>6.000000</td>\n",
              "      <td>1.000000</td>\n",
              "    </tr>\n",
              "    <tr>\n",
              "      <th>25%</th>\n",
              "      <td>5.000000</td>\n",
              "      <td>2602.250000</td>\n",
              "      <td>5.000000</td>\n",
              "    </tr>\n",
              "    <tr>\n",
              "      <th>50%</th>\n",
              "      <td>7.000000</td>\n",
              "      <td>10412.500000</td>\n",
              "      <td>7.000000</td>\n",
              "    </tr>\n",
              "    <tr>\n",
              "      <th>75%</th>\n",
              "      <td>14.000000</td>\n",
              "      <td>18191.500000</td>\n",
              "      <td>8.000000</td>\n",
              "    </tr>\n",
              "    <tr>\n",
              "      <th>max</th>\n",
              "      <td>17.000000</td>\n",
              "      <td>33341.000000</td>\n",
              "      <td>10.000000</td>\n",
              "    </tr>\n",
              "  </tbody>\n",
              "</table>\n",
              "</div>"
            ],
            "text/plain": [
              "           user_id      anime_id       rating\n",
              "count  1452.000000   1452.000000  1452.000000\n",
              "mean      9.017218  11399.560606     6.409091\n",
              "std       4.837865   9031.895302     2.240686\n",
              "min       1.000000      6.000000     1.000000\n",
              "25%       5.000000   2602.250000     5.000000\n",
              "50%       7.000000  10412.500000     7.000000\n",
              "75%      14.000000  18191.500000     8.000000\n",
              "max      17.000000  33341.000000    10.000000"
            ]
          },
          "metadata": {},
          "execution_count": 15
        }
      ]
    },
    {
      "cell_type": "code",
      "source": [
        "print('Jumlah user_id: ', len(rating.user_id.unique()))\n",
        "print('Jumlah anime_id: ', len(rating.anime_id.unique()))\n",
        "print('Jumlah data rating: ', len(rating))"
      ],
      "metadata": {
        "colab": {
          "base_uri": "https://localhost:8080/"
        },
        "id": "zqHoUr1yiADj",
        "outputId": "30b3d2a5-9a26-4710-e26d-9e7f2013ac9e"
      },
      "execution_count": 16,
      "outputs": [
        {
          "output_type": "stream",
          "name": "stdout",
          "text": [
            "Jumlah user_id:  14\n",
            "Jumlah anime_id:  966\n",
            "Jumlah data rating:  1452\n"
          ]
        }
      ]
    },
    {
      "cell_type": "markdown",
      "source": [
        "## Content Based Filtering"
      ],
      "metadata": {
        "id": "QKekj3KXMIqb"
      }
    },
    {
      "cell_type": "markdown",
      "source": [
        "### TF-IDF Vectorizer"
      ],
      "metadata": {
        "id": "CA3-M-gLMLxD"
      }
    },
    {
      "cell_type": "code",
      "source": [
        "tf = TfidfVectorizer()\n",
        "\n",
        "tf.fit(anime['genre']) \n",
        "\n",
        "tf.get_feature_names() "
      ],
      "metadata": {
        "colab": {
          "base_uri": "https://localhost:8080/"
        },
        "id": "D2E5vMw9mnY9",
        "outputId": "ff784902-fd54-4ad5-9d39-80cb31f99aa2"
      },
      "execution_count": 17,
      "outputs": [
        {
          "output_type": "stream",
          "name": "stderr",
          "text": [
            "/usr/local/lib/python3.7/dist-packages/sklearn/utils/deprecation.py:87: FutureWarning: Function get_feature_names is deprecated; get_feature_names is deprecated in 1.0 and will be removed in 1.2. Please use get_feature_names_out instead.\n",
            "  warnings.warn(msg, category=FutureWarning)\n"
          ]
        },
        {
          "output_type": "execute_result",
          "data": {
            "text/plain": [
              "['action',\n",
              " 'adventure',\n",
              " 'ai',\n",
              " 'arts',\n",
              " 'cars',\n",
              " 'comedy',\n",
              " 'dementia',\n",
              " 'demons',\n",
              " 'drama',\n",
              " 'ecchi',\n",
              " 'fantasy',\n",
              " 'fi',\n",
              " 'game',\n",
              " 'harem',\n",
              " 'hentai',\n",
              " 'historical',\n",
              " 'horror',\n",
              " 'josei',\n",
              " 'kids',\n",
              " 'life',\n",
              " 'magic',\n",
              " 'martial',\n",
              " 'mecha',\n",
              " 'military',\n",
              " 'music',\n",
              " 'mystery',\n",
              " 'of',\n",
              " 'parody',\n",
              " 'police',\n",
              " 'power',\n",
              " 'psychological',\n",
              " 'romance',\n",
              " 'samurai',\n",
              " 'school',\n",
              " 'sci',\n",
              " 'seinen',\n",
              " 'shoujo',\n",
              " 'shounen',\n",
              " 'slice',\n",
              " 'space',\n",
              " 'sports',\n",
              " 'super',\n",
              " 'supernatural',\n",
              " 'thriller',\n",
              " 'vampire',\n",
              " 'yaoi',\n",
              " 'yuri']"
            ]
          },
          "metadata": {},
          "execution_count": 17
        }
      ]
    },
    {
      "cell_type": "code",
      "source": [
        "tfidf_matrix = tf.fit_transform(anime['genre']) \n",
        "\n",
        "tfidf_matrix.shape "
      ],
      "metadata": {
        "colab": {
          "base_uri": "https://localhost:8080/"
        },
        "id": "0o0zTlI5pLu-",
        "outputId": "eaf1f326-cc59-46a6-8a61-d6e76aaf527e"
      },
      "execution_count": 18,
      "outputs": [
        {
          "output_type": "execute_result",
          "data": {
            "text/plain": [
              "(12017, 47)"
            ]
          },
          "metadata": {},
          "execution_count": 18
        }
      ]
    },
    {
      "cell_type": "code",
      "source": [
        "tfidf_matrix.todense()"
      ],
      "metadata": {
        "colab": {
          "base_uri": "https://localhost:8080/"
        },
        "id": "N8kz_kcOpUWE",
        "outputId": "7436fbef-9bf6-4395-ec30-ae3e90e87554"
      },
      "execution_count": 19,
      "outputs": [
        {
          "output_type": "execute_result",
          "data": {
            "text/plain": [
              "matrix([[0.        , 0.        , 0.        , ..., 0.        , 0.        ,\n",
              "         0.        ],\n",
              "        [0.29498527, 0.3162867 , 0.        , ..., 0.        , 0.        ,\n",
              "         0.        ],\n",
              "        [0.2516182 , 0.        , 0.        , ..., 0.        , 0.        ,\n",
              "         0.        ],\n",
              "        ...,\n",
              "        [0.        , 0.        , 0.        , ..., 0.        , 0.        ,\n",
              "         0.        ],\n",
              "        [0.        , 0.        , 0.        , ..., 0.        , 0.        ,\n",
              "         0.        ],\n",
              "        [0.        , 0.        , 0.        , ..., 0.        , 0.        ,\n",
              "         0.        ]])"
            ]
          },
          "metadata": {},
          "execution_count": 19
        }
      ]
    },
    {
      "cell_type": "code",
      "source": [
        "pd.DataFrame(\n",
        "    tfidf_matrix.todense(), \n",
        "    columns=tf.get_feature_names(),\n",
        "    index=anime.name\n",
        ").sample(22, axis=1).sample(10, axis=0)"
      ],
      "metadata": {
        "colab": {
          "base_uri": "https://localhost:8080/",
          "height": 571
        },
        "id": "LaJ-dJUzpYyd",
        "outputId": "adda6606-dd0a-4c87-ff58-18bd2e4bdac0"
      },
      "execution_count": 20,
      "outputs": [
        {
          "output_type": "stream",
          "name": "stderr",
          "text": [
            "/usr/local/lib/python3.7/dist-packages/sklearn/utils/deprecation.py:87: FutureWarning: Function get_feature_names is deprecated; get_feature_names is deprecated in 1.0 and will be removed in 1.2. Please use get_feature_names_out instead.\n",
            "  warnings.warn(msg, category=FutureWarning)\n"
          ]
        },
        {
          "output_type": "execute_result",
          "data": {
            "text/html": [
              "<div>\n",
              "<style scoped>\n",
              "    .dataframe tbody tr th:only-of-type {\n",
              "        vertical-align: middle;\n",
              "    }\n",
              "\n",
              "    .dataframe tbody tr th {\n",
              "        vertical-align: top;\n",
              "    }\n",
              "\n",
              "    .dataframe thead th {\n",
              "        text-align: right;\n",
              "    }\n",
              "</style>\n",
              "<table border=\"1\" class=\"dataframe\">\n",
              "  <thead>\n",
              "    <tr style=\"text-align: right;\">\n",
              "      <th></th>\n",
              "      <th>harem</th>\n",
              "      <th>game</th>\n",
              "      <th>mecha</th>\n",
              "      <th>supernatural</th>\n",
              "      <th>super</th>\n",
              "      <th>space</th>\n",
              "      <th>romance</th>\n",
              "      <th>kids</th>\n",
              "      <th>yuri</th>\n",
              "      <th>hentai</th>\n",
              "      <th>demons</th>\n",
              "      <th>action</th>\n",
              "      <th>vampire</th>\n",
              "      <th>comedy</th>\n",
              "      <th>historical</th>\n",
              "      <th>fi</th>\n",
              "      <th>slice</th>\n",
              "      <th>music</th>\n",
              "      <th>magic</th>\n",
              "      <th>dementia</th>\n",
              "      <th>ai</th>\n",
              "      <th>ecchi</th>\n",
              "    </tr>\n",
              "    <tr>\n",
              "      <th>name</th>\n",
              "      <th></th>\n",
              "      <th></th>\n",
              "      <th></th>\n",
              "      <th></th>\n",
              "      <th></th>\n",
              "      <th></th>\n",
              "      <th></th>\n",
              "      <th></th>\n",
              "      <th></th>\n",
              "      <th></th>\n",
              "      <th></th>\n",
              "      <th></th>\n",
              "      <th></th>\n",
              "      <th></th>\n",
              "      <th></th>\n",
              "      <th></th>\n",
              "      <th></th>\n",
              "      <th></th>\n",
              "      <th></th>\n",
              "      <th></th>\n",
              "      <th></th>\n",
              "      <th></th>\n",
              "    </tr>\n",
              "  </thead>\n",
              "  <tbody>\n",
              "    <tr>\n",
              "      <th>Hennako-chan</th>\n",
              "      <td>0.000000</td>\n",
              "      <td>0.0</td>\n",
              "      <td>0.0</td>\n",
              "      <td>0.0</td>\n",
              "      <td>0.0</td>\n",
              "      <td>0.0</td>\n",
              "      <td>0.000000</td>\n",
              "      <td>0.0</td>\n",
              "      <td>0.0</td>\n",
              "      <td>0.0</td>\n",
              "      <td>0.0</td>\n",
              "      <td>0.000000</td>\n",
              "      <td>0.0</td>\n",
              "      <td>1.000000</td>\n",
              "      <td>0.000000</td>\n",
              "      <td>0.000000</td>\n",
              "      <td>0.000000</td>\n",
              "      <td>0.0</td>\n",
              "      <td>0.000000</td>\n",
              "      <td>0.0</td>\n",
              "      <td>0.0</td>\n",
              "      <td>0.0</td>\n",
              "    </tr>\n",
              "    <tr>\n",
              "      <th>Fune wo Amu</th>\n",
              "      <td>0.000000</td>\n",
              "      <td>0.0</td>\n",
              "      <td>0.0</td>\n",
              "      <td>0.0</td>\n",
              "      <td>0.0</td>\n",
              "      <td>0.0</td>\n",
              "      <td>0.000000</td>\n",
              "      <td>0.0</td>\n",
              "      <td>0.0</td>\n",
              "      <td>0.0</td>\n",
              "      <td>0.0</td>\n",
              "      <td>0.000000</td>\n",
              "      <td>0.0</td>\n",
              "      <td>0.000000</td>\n",
              "      <td>0.000000</td>\n",
              "      <td>0.000000</td>\n",
              "      <td>0.518324</td>\n",
              "      <td>0.0</td>\n",
              "      <td>0.000000</td>\n",
              "      <td>0.0</td>\n",
              "      <td>0.0</td>\n",
              "      <td>0.0</td>\n",
              "    </tr>\n",
              "    <tr>\n",
              "      <th>Yotsunoha</th>\n",
              "      <td>0.000000</td>\n",
              "      <td>0.0</td>\n",
              "      <td>0.0</td>\n",
              "      <td>0.0</td>\n",
              "      <td>0.0</td>\n",
              "      <td>0.0</td>\n",
              "      <td>0.684808</td>\n",
              "      <td>0.0</td>\n",
              "      <td>0.0</td>\n",
              "      <td>0.0</td>\n",
              "      <td>0.0</td>\n",
              "      <td>0.000000</td>\n",
              "      <td>0.0</td>\n",
              "      <td>0.000000</td>\n",
              "      <td>0.000000</td>\n",
              "      <td>0.000000</td>\n",
              "      <td>0.000000</td>\n",
              "      <td>0.0</td>\n",
              "      <td>0.000000</td>\n",
              "      <td>0.0</td>\n",
              "      <td>0.0</td>\n",
              "      <td>0.0</td>\n",
              "    </tr>\n",
              "    <tr>\n",
              "      <th>Utawarerumono Specials</th>\n",
              "      <td>0.000000</td>\n",
              "      <td>0.0</td>\n",
              "      <td>0.0</td>\n",
              "      <td>0.0</td>\n",
              "      <td>0.0</td>\n",
              "      <td>0.0</td>\n",
              "      <td>0.000000</td>\n",
              "      <td>0.0</td>\n",
              "      <td>0.0</td>\n",
              "      <td>0.0</td>\n",
              "      <td>0.0</td>\n",
              "      <td>0.493651</td>\n",
              "      <td>0.0</td>\n",
              "      <td>0.393170</td>\n",
              "      <td>0.000000</td>\n",
              "      <td>0.000000</td>\n",
              "      <td>0.000000</td>\n",
              "      <td>0.0</td>\n",
              "      <td>0.000000</td>\n",
              "      <td>0.0</td>\n",
              "      <td>0.0</td>\n",
              "      <td>0.0</td>\n",
              "    </tr>\n",
              "    <tr>\n",
              "      <th>D.C. I&amp;amp;II P.S.P. Re-Animated</th>\n",
              "      <td>0.635281</td>\n",
              "      <td>0.0</td>\n",
              "      <td>0.0</td>\n",
              "      <td>0.0</td>\n",
              "      <td>0.0</td>\n",
              "      <td>0.0</td>\n",
              "      <td>0.427164</td>\n",
              "      <td>0.0</td>\n",
              "      <td>0.0</td>\n",
              "      <td>0.0</td>\n",
              "      <td>0.0</td>\n",
              "      <td>0.000000</td>\n",
              "      <td>0.0</td>\n",
              "      <td>0.000000</td>\n",
              "      <td>0.000000</td>\n",
              "      <td>0.000000</td>\n",
              "      <td>0.000000</td>\n",
              "      <td>0.0</td>\n",
              "      <td>0.516560</td>\n",
              "      <td>0.0</td>\n",
              "      <td>0.0</td>\n",
              "      <td>0.0</td>\n",
              "    </tr>\n",
              "    <tr>\n",
              "      <th>Mai Zhu</th>\n",
              "      <td>0.000000</td>\n",
              "      <td>0.0</td>\n",
              "      <td>0.0</td>\n",
              "      <td>0.0</td>\n",
              "      <td>0.0</td>\n",
              "      <td>0.0</td>\n",
              "      <td>0.000000</td>\n",
              "      <td>0.0</td>\n",
              "      <td>0.0</td>\n",
              "      <td>0.0</td>\n",
              "      <td>0.0</td>\n",
              "      <td>0.000000</td>\n",
              "      <td>0.0</td>\n",
              "      <td>0.468081</td>\n",
              "      <td>0.883686</td>\n",
              "      <td>0.000000</td>\n",
              "      <td>0.000000</td>\n",
              "      <td>0.0</td>\n",
              "      <td>0.000000</td>\n",
              "      <td>0.0</td>\n",
              "      <td>0.0</td>\n",
              "      <td>0.0</td>\n",
              "    </tr>\n",
              "    <tr>\n",
              "      <th>Crystal Blaze</th>\n",
              "      <td>0.000000</td>\n",
              "      <td>0.0</td>\n",
              "      <td>0.0</td>\n",
              "      <td>0.0</td>\n",
              "      <td>0.0</td>\n",
              "      <td>0.0</td>\n",
              "      <td>0.000000</td>\n",
              "      <td>0.0</td>\n",
              "      <td>0.0</td>\n",
              "      <td>0.0</td>\n",
              "      <td>0.0</td>\n",
              "      <td>0.532356</td>\n",
              "      <td>0.0</td>\n",
              "      <td>0.000000</td>\n",
              "      <td>0.000000</td>\n",
              "      <td>0.598581</td>\n",
              "      <td>0.000000</td>\n",
              "      <td>0.0</td>\n",
              "      <td>0.000000</td>\n",
              "      <td>0.0</td>\n",
              "      <td>0.0</td>\n",
              "      <td>0.0</td>\n",
              "    </tr>\n",
              "    <tr>\n",
              "      <th>Shou-chan Sora wo Tobu</th>\n",
              "      <td>0.000000</td>\n",
              "      <td>0.0</td>\n",
              "      <td>0.0</td>\n",
              "      <td>0.0</td>\n",
              "      <td>0.0</td>\n",
              "      <td>0.0</td>\n",
              "      <td>0.000000</td>\n",
              "      <td>0.0</td>\n",
              "      <td>0.0</td>\n",
              "      <td>0.0</td>\n",
              "      <td>0.0</td>\n",
              "      <td>0.000000</td>\n",
              "      <td>0.0</td>\n",
              "      <td>0.000000</td>\n",
              "      <td>0.000000</td>\n",
              "      <td>0.464764</td>\n",
              "      <td>0.000000</td>\n",
              "      <td>0.0</td>\n",
              "      <td>0.000000</td>\n",
              "      <td>0.0</td>\n",
              "      <td>0.0</td>\n",
              "      <td>0.0</td>\n",
              "    </tr>\n",
              "    <tr>\n",
              "      <th>Densetsu no Yuusha no Densetsu</th>\n",
              "      <td>0.000000</td>\n",
              "      <td>0.0</td>\n",
              "      <td>0.0</td>\n",
              "      <td>0.0</td>\n",
              "      <td>0.0</td>\n",
              "      <td>0.0</td>\n",
              "      <td>0.000000</td>\n",
              "      <td>0.0</td>\n",
              "      <td>0.0</td>\n",
              "      <td>0.0</td>\n",
              "      <td>0.0</td>\n",
              "      <td>0.375870</td>\n",
              "      <td>0.0</td>\n",
              "      <td>0.000000</td>\n",
              "      <td>0.000000</td>\n",
              "      <td>0.000000</td>\n",
              "      <td>0.000000</td>\n",
              "      <td>0.0</td>\n",
              "      <td>0.575209</td>\n",
              "      <td>0.0</td>\n",
              "      <td>0.0</td>\n",
              "      <td>0.0</td>\n",
              "    </tr>\n",
              "    <tr>\n",
              "      <th>Meitantei Gordon</th>\n",
              "      <td>0.000000</td>\n",
              "      <td>0.0</td>\n",
              "      <td>0.0</td>\n",
              "      <td>0.0</td>\n",
              "      <td>0.0</td>\n",
              "      <td>0.0</td>\n",
              "      <td>0.000000</td>\n",
              "      <td>0.0</td>\n",
              "      <td>0.0</td>\n",
              "      <td>0.0</td>\n",
              "      <td>0.0</td>\n",
              "      <td>0.000000</td>\n",
              "      <td>0.0</td>\n",
              "      <td>0.423216</td>\n",
              "      <td>0.000000</td>\n",
              "      <td>0.000000</td>\n",
              "      <td>0.000000</td>\n",
              "      <td>0.0</td>\n",
              "      <td>0.000000</td>\n",
              "      <td>0.0</td>\n",
              "      <td>0.0</td>\n",
              "      <td>0.0</td>\n",
              "    </tr>\n",
              "  </tbody>\n",
              "</table>\n",
              "</div>"
            ],
            "text/plain": [
              "                                     harem  game  mecha  ...  dementia   ai  ecchi\n",
              "name                                                     ...                      \n",
              "Hennako-chan                      0.000000   0.0    0.0  ...       0.0  0.0    0.0\n",
              "Fune wo Amu                       0.000000   0.0    0.0  ...       0.0  0.0    0.0\n",
              "Yotsunoha                         0.000000   0.0    0.0  ...       0.0  0.0    0.0\n",
              "Utawarerumono Specials            0.000000   0.0    0.0  ...       0.0  0.0    0.0\n",
              "D.C. I&amp;II P.S.P. Re-Animated  0.635281   0.0    0.0  ...       0.0  0.0    0.0\n",
              "Mai Zhu                           0.000000   0.0    0.0  ...       0.0  0.0    0.0\n",
              "Crystal Blaze                     0.000000   0.0    0.0  ...       0.0  0.0    0.0\n",
              "Shou-chan Sora wo Tobu            0.000000   0.0    0.0  ...       0.0  0.0    0.0\n",
              "Densetsu no Yuusha no Densetsu    0.000000   0.0    0.0  ...       0.0  0.0    0.0\n",
              "Meitantei Gordon                  0.000000   0.0    0.0  ...       0.0  0.0    0.0\n",
              "\n",
              "[10 rows x 22 columns]"
            ]
          },
          "metadata": {},
          "execution_count": 20
        }
      ]
    },
    {
      "cell_type": "markdown",
      "source": [
        "### Cosine Similarity"
      ],
      "metadata": {
        "id": "g_souHqaM8-D"
      }
    },
    {
      "cell_type": "code",
      "source": [
        "from sklearn.metrics.pairwise import cosine_similarity\n",
        "\n",
        "cosine_sim = cosine_similarity(tfidf_matrix) \n",
        "cosine_sim"
      ],
      "metadata": {
        "colab": {
          "base_uri": "https://localhost:8080/"
        },
        "id": "zfaIxnrutDlW",
        "outputId": "cfca7ed4-6adb-4b65-87a6-54ab233bce51"
      },
      "execution_count": 21,
      "outputs": [
        {
          "output_type": "execute_result",
          "data": {
            "text/plain": [
              "array([[1.        , 0.14715318, 0.        , ..., 0.        , 0.        ,\n",
              "        0.        ],\n",
              "       [0.14715318, 1.        , 0.17877808, ..., 0.        , 0.        ,\n",
              "        0.        ],\n",
              "       [0.        , 0.17877808, 1.        , ..., 0.        , 0.        ,\n",
              "        0.        ],\n",
              "       ...,\n",
              "       [0.        , 0.        , 0.        , ..., 1.        , 1.        ,\n",
              "        1.        ],\n",
              "       [0.        , 0.        , 0.        , ..., 1.        , 1.        ,\n",
              "        1.        ],\n",
              "       [0.        , 0.        , 0.        , ..., 1.        , 1.        ,\n",
              "        1.        ]])"
            ]
          },
          "metadata": {},
          "execution_count": 21
        }
      ]
    },
    {
      "cell_type": "code",
      "source": [
        "cosine_sim_df = pd.DataFrame(cosine_sim, index=anime['name'], columns=anime['name'])\n",
        "print('Shape:', cosine_sim_df.shape)\n",
        "\n",
        "cosine_sim_df.sample(5, axis=1).sample(10, axis=0)"
      ],
      "metadata": {
        "colab": {
          "base_uri": "https://localhost:8080/",
          "height": 446
        },
        "id": "Aay5HFiztHKm",
        "outputId": "5d74c4d0-ed00-4894-fc90-69f942b3b294"
      },
      "execution_count": 22,
      "outputs": [
        {
          "output_type": "stream",
          "name": "stdout",
          "text": [
            "Shape: (12017, 12017)\n"
          ]
        },
        {
          "output_type": "execute_result",
          "data": {
            "text/html": [
              "<div>\n",
              "<style scoped>\n",
              "    .dataframe tbody tr th:only-of-type {\n",
              "        vertical-align: middle;\n",
              "    }\n",
              "\n",
              "    .dataframe tbody tr th {\n",
              "        vertical-align: top;\n",
              "    }\n",
              "\n",
              "    .dataframe thead th {\n",
              "        text-align: right;\n",
              "    }\n",
              "</style>\n",
              "<table border=\"1\" class=\"dataframe\">\n",
              "  <thead>\n",
              "    <tr style=\"text-align: right;\">\n",
              "      <th>name</th>\n",
              "      <th>Daraku: Onna Kyoushi Hakai</th>\n",
              "      <th>Gosick</th>\n",
              "      <th>Kakutou Bijin Wulong: Rebirth</th>\n",
              "      <th>Parasol Henbei</th>\n",
              "      <th>Monster ni Natta Domerica</th>\n",
              "    </tr>\n",
              "    <tr>\n",
              "      <th>name</th>\n",
              "      <th></th>\n",
              "      <th></th>\n",
              "      <th></th>\n",
              "      <th></th>\n",
              "      <th></th>\n",
              "    </tr>\n",
              "  </thead>\n",
              "  <tbody>\n",
              "    <tr>\n",
              "      <th>Digimon Adventure 3D: Digimon Grand Prix!</th>\n",
              "      <td>0.0</td>\n",
              "      <td>0.000000</td>\n",
              "      <td>0.137067</td>\n",
              "      <td>0.506145</td>\n",
              "      <td>0.437036</td>\n",
              "    </tr>\n",
              "    <tr>\n",
              "      <th>0-sen Hayato Pilot</th>\n",
              "      <td>0.0</td>\n",
              "      <td>0.343203</td>\n",
              "      <td>0.000000</td>\n",
              "      <td>0.000000</td>\n",
              "      <td>0.000000</td>\n",
              "    </tr>\n",
              "    <tr>\n",
              "      <th>Sore Ike! Anpanman: Outa to Teasobi Tanoshii ne</th>\n",
              "      <td>0.0</td>\n",
              "      <td>0.000000</td>\n",
              "      <td>0.098791</td>\n",
              "      <td>0.697434</td>\n",
              "      <td>0.438948</td>\n",
              "    </tr>\n",
              "    <tr>\n",
              "      <th>Arcade Gamer Fubuki</th>\n",
              "      <td>0.0</td>\n",
              "      <td>0.000000</td>\n",
              "      <td>0.205609</td>\n",
              "      <td>0.058043</td>\n",
              "      <td>0.161662</td>\n",
              "    </tr>\n",
              "    <tr>\n",
              "      <th>Heisa Byouin</th>\n",
              "      <td>1.0</td>\n",
              "      <td>0.000000</td>\n",
              "      <td>0.000000</td>\n",
              "      <td>0.000000</td>\n",
              "      <td>0.000000</td>\n",
              "    </tr>\n",
              "    <tr>\n",
              "      <th>Kyoto Animation: Ikitaku Naru Omise-hen</th>\n",
              "      <td>0.0</td>\n",
              "      <td>0.000000</td>\n",
              "      <td>0.000000</td>\n",
              "      <td>0.000000</td>\n",
              "      <td>0.000000</td>\n",
              "    </tr>\n",
              "    <tr>\n",
              "      <th>Pororo Daemoheom</th>\n",
              "      <td>0.0</td>\n",
              "      <td>0.000000</td>\n",
              "      <td>0.000000</td>\n",
              "      <td>0.623645</td>\n",
              "      <td>0.000000</td>\n",
              "    </tr>\n",
              "    <tr>\n",
              "      <th>Lupin III: Honoo no Kioku - Tokyo Crisis</th>\n",
              "      <td>0.0</td>\n",
              "      <td>0.384297</td>\n",
              "      <td>0.323430</td>\n",
              "      <td>0.256779</td>\n",
              "      <td>0.254299</td>\n",
              "    </tr>\n",
              "    <tr>\n",
              "      <th>Aiura</th>\n",
              "      <td>0.0</td>\n",
              "      <td>0.000000</td>\n",
              "      <td>0.359687</td>\n",
              "      <td>0.080121</td>\n",
              "      <td>0.000000</td>\n",
              "    </tr>\n",
              "    <tr>\n",
              "      <th>Kono Minikuku mo Utsukushii Sekai</th>\n",
              "      <td>0.0</td>\n",
              "      <td>0.351591</td>\n",
              "      <td>0.061994</td>\n",
              "      <td>0.393907</td>\n",
              "      <td>0.000000</td>\n",
              "    </tr>\n",
              "  </tbody>\n",
              "</table>\n",
              "</div>"
            ],
            "text/plain": [
              "name                                             Daraku: Onna Kyoushi Hakai  ...  Monster ni Natta Domerica\n",
              "name                                                                         ...                           \n",
              "Digimon Adventure 3D: Digimon Grand Prix!                               0.0  ...                   0.437036\n",
              "0-sen Hayato Pilot                                                      0.0  ...                   0.000000\n",
              "Sore Ike! Anpanman: Outa to Teasobi Tanoshii ne                         0.0  ...                   0.438948\n",
              "Arcade Gamer Fubuki                                                     0.0  ...                   0.161662\n",
              "Heisa Byouin                                                            1.0  ...                   0.000000\n",
              "Kyoto Animation: Ikitaku Naru Omise-hen                                 0.0  ...                   0.000000\n",
              "Pororo Daemoheom                                                        0.0  ...                   0.000000\n",
              "Lupin III: Honoo no Kioku - Tokyo Crisis                                0.0  ...                   0.254299\n",
              "Aiura                                                                   0.0  ...                   0.000000\n",
              "Kono Minikuku mo Utsukushii Sekai                                       0.0  ...                   0.000000\n",
              "\n",
              "[10 rows x 5 columns]"
            ]
          },
          "metadata": {},
          "execution_count": 22
        }
      ]
    },
    {
      "cell_type": "markdown",
      "source": [
        "### Fungsi Rekomendasi"
      ],
      "metadata": {
        "id": "VOVanO_KNBgL"
      }
    },
    {
      "cell_type": "code",
      "source": [
        "import tensorflow as tf\n",
        "\n",
        "def anime_recommendations(nama_anime, similarity_data=cosine_sim_df, items=anime[['name', 'genre']], k=5):\n",
        "    \n",
        "    index = similarity_data.loc[:,nama_anime].to_numpy().argpartition(\n",
        "        range(-1, -k, -1))\n",
        "    \n",
        "    closest = similarity_data.columns[index[-1:-(k+2):-1]]\n",
        "    \n",
        "    closest = closest.drop(nama_anime, errors='ignore')\n",
        " \n",
        "    return pd.DataFrame(closest).merge(items).head(k)"
      ],
      "metadata": {
        "id": "Burug4LBtXS1"
      },
      "execution_count": 23,
      "outputs": []
    },
    {
      "cell_type": "markdown",
      "source": [
        "### Uji Coba"
      ],
      "metadata": {
        "id": "PlkvOEmBNGaL"
      }
    },
    {
      "cell_type": "code",
      "source": [
        "anime[anime.name.eq('Kimi no Na wa.')]"
      ],
      "metadata": {
        "colab": {
          "base_uri": "https://localhost:8080/",
          "height": 81
        },
        "id": "JqnLEN5htvOM",
        "outputId": "5c0411ce-799c-43ed-98cd-bd46f3de1e70"
      },
      "execution_count": 24,
      "outputs": [
        {
          "output_type": "execute_result",
          "data": {
            "text/html": [
              "<div>\n",
              "<style scoped>\n",
              "    .dataframe tbody tr th:only-of-type {\n",
              "        vertical-align: middle;\n",
              "    }\n",
              "\n",
              "    .dataframe tbody tr th {\n",
              "        vertical-align: top;\n",
              "    }\n",
              "\n",
              "    .dataframe thead th {\n",
              "        text-align: right;\n",
              "    }\n",
              "</style>\n",
              "<table border=\"1\" class=\"dataframe\">\n",
              "  <thead>\n",
              "    <tr style=\"text-align: right;\">\n",
              "      <th></th>\n",
              "      <th>anime_id</th>\n",
              "      <th>name</th>\n",
              "      <th>genre</th>\n",
              "      <th>type</th>\n",
              "      <th>episodes</th>\n",
              "      <th>rating</th>\n",
              "      <th>members</th>\n",
              "    </tr>\n",
              "  </thead>\n",
              "  <tbody>\n",
              "    <tr>\n",
              "      <th>0</th>\n",
              "      <td>32281</td>\n",
              "      <td>Kimi no Na wa.</td>\n",
              "      <td>Drama, Romance, School, Supernatural</td>\n",
              "      <td>Movie</td>\n",
              "      <td>1</td>\n",
              "      <td>9.37</td>\n",
              "      <td>200630</td>\n",
              "    </tr>\n",
              "  </tbody>\n",
              "</table>\n",
              "</div>"
            ],
            "text/plain": [
              "   anime_id            name  ... rating members\n",
              "0     32281  Kimi no Na wa.  ...   9.37  200630\n",
              "\n",
              "[1 rows x 7 columns]"
            ]
          },
          "metadata": {},
          "execution_count": 24
        }
      ]
    },
    {
      "cell_type": "code",
      "source": [
        "result = anime_recommendations('Kimi no Na wa.')\n",
        "result"
      ],
      "metadata": {
        "colab": {
          "base_uri": "https://localhost:8080/",
          "height": 206
        },
        "id": "-sWI9n42uCbG",
        "outputId": "c4efaf28-5dc6-498d-e588-08aefb28a308"
      },
      "execution_count": 25,
      "outputs": [
        {
          "output_type": "execute_result",
          "data": {
            "text/html": [
              "<div>\n",
              "<style scoped>\n",
              "    .dataframe tbody tr th:only-of-type {\n",
              "        vertical-align: middle;\n",
              "    }\n",
              "\n",
              "    .dataframe tbody tr th {\n",
              "        vertical-align: top;\n",
              "    }\n",
              "\n",
              "    .dataframe thead th {\n",
              "        text-align: right;\n",
              "    }\n",
              "</style>\n",
              "<table border=\"1\" class=\"dataframe\">\n",
              "  <thead>\n",
              "    <tr style=\"text-align: right;\">\n",
              "      <th></th>\n",
              "      <th>name</th>\n",
              "      <th>genre</th>\n",
              "    </tr>\n",
              "  </thead>\n",
              "  <tbody>\n",
              "    <tr>\n",
              "      <th>0</th>\n",
              "      <td>Wind: A Breath of Heart OVA</td>\n",
              "      <td>Drama, Romance, School, Supernatural</td>\n",
              "    </tr>\n",
              "    <tr>\n",
              "      <th>1</th>\n",
              "      <td>Wind: A Breath of Heart (TV)</td>\n",
              "      <td>Drama, Romance, School, Supernatural</td>\n",
              "    </tr>\n",
              "    <tr>\n",
              "      <th>2</th>\n",
              "      <td>Aura: Maryuuin Kouga Saigo no Tatakai</td>\n",
              "      <td>Comedy, Drama, Romance, School, Supernatural</td>\n",
              "    </tr>\n",
              "    <tr>\n",
              "      <th>3</th>\n",
              "      <td>Angel Beats!: Another Epilogue</td>\n",
              "      <td>Drama, School, Supernatural</td>\n",
              "    </tr>\n",
              "    <tr>\n",
              "      <th>4</th>\n",
              "      <td>Harmonie</td>\n",
              "      <td>Drama, School, Supernatural</td>\n",
              "    </tr>\n",
              "  </tbody>\n",
              "</table>\n",
              "</div>"
            ],
            "text/plain": [
              "                                    name                                         genre\n",
              "0            Wind: A Breath of Heart OVA          Drama, Romance, School, Supernatural\n",
              "1           Wind: A Breath of Heart (TV)          Drama, Romance, School, Supernatural\n",
              "2  Aura: Maryuuin Kouga Saigo no Tatakai  Comedy, Drama, Romance, School, Supernatural\n",
              "3         Angel Beats!: Another Epilogue                   Drama, School, Supernatural\n",
              "4                               Harmonie                   Drama, School, Supernatural"
            ]
          },
          "metadata": {},
          "execution_count": 25
        }
      ]
    },
    {
      "cell_type": "code",
      "source": [
        "a = 0\n",
        "\n",
        "for row in result.itertuples():\n",
        "  if (row.genre == 'Drama, Romance, School, Supernatural'):\n",
        "    a += 1\n",
        "\n",
        "precision = (a/5)*100\n",
        "print(\"The precision of the model is {}%\".format(precision))"
      ],
      "metadata": {
        "colab": {
          "base_uri": "https://localhost:8080/"
        },
        "id": "spPLWplgs_s8",
        "outputId": "6358242d-0590-4b81-adb9-b2e35ffebe0d"
      },
      "execution_count": 26,
      "outputs": [
        {
          "output_type": "stream",
          "name": "stdout",
          "text": [
            "The precision of the model is 40.0%\n"
          ]
        }
      ]
    },
    {
      "cell_type": "code",
      "source": [
        "anime_recommendations('Steins;Gate')"
      ],
      "metadata": {
        "colab": {
          "base_uri": "https://localhost:8080/",
          "height": 206
        },
        "id": "UdXpaPl-3AlH",
        "outputId": "2def98cf-51dd-4641-e58c-1157338aa324"
      },
      "execution_count": 27,
      "outputs": [
        {
          "output_type": "execute_result",
          "data": {
            "text/html": [
              "<div>\n",
              "<style scoped>\n",
              "    .dataframe tbody tr th:only-of-type {\n",
              "        vertical-align: middle;\n",
              "    }\n",
              "\n",
              "    .dataframe tbody tr th {\n",
              "        vertical-align: top;\n",
              "    }\n",
              "\n",
              "    .dataframe thead th {\n",
              "        text-align: right;\n",
              "    }\n",
              "</style>\n",
              "<table border=\"1\" class=\"dataframe\">\n",
              "  <thead>\n",
              "    <tr style=\"text-align: right;\">\n",
              "      <th></th>\n",
              "      <th>name</th>\n",
              "      <th>genre</th>\n",
              "    </tr>\n",
              "  </thead>\n",
              "  <tbody>\n",
              "    <tr>\n",
              "      <th>0</th>\n",
              "      <td>Steins;Gate: Kyoukaimenjou no Missing Link - D...</td>\n",
              "      <td>Sci-Fi, Thriller</td>\n",
              "    </tr>\n",
              "    <tr>\n",
              "      <th>1</th>\n",
              "      <td>Steins;Gate Movie: Fuka Ryouiki no Déjà vu</td>\n",
              "      <td>Sci-Fi, Thriller</td>\n",
              "    </tr>\n",
              "    <tr>\n",
              "      <th>2</th>\n",
              "      <td>Steins;Gate: Oukoubakko no Poriomania</td>\n",
              "      <td>Sci-Fi, Thriller</td>\n",
              "    </tr>\n",
              "    <tr>\n",
              "      <th>3</th>\n",
              "      <td>Ibara no Ou</td>\n",
              "      <td>Action, Mystery, Sci-Fi, Thriller</td>\n",
              "    </tr>\n",
              "    <tr>\n",
              "      <th>4</th>\n",
              "      <td>Loups=Garous</td>\n",
              "      <td>Mystery, Sci-Fi, Thriller</td>\n",
              "    </tr>\n",
              "  </tbody>\n",
              "</table>\n",
              "</div>"
            ],
            "text/plain": [
              "                                                name                              genre\n",
              "0  Steins;Gate: Kyoukaimenjou no Missing Link - D...                   Sci-Fi, Thriller\n",
              "1         Steins;Gate Movie: Fuka Ryouiki no Déjà vu                   Sci-Fi, Thriller\n",
              "2              Steins;Gate: Oukoubakko no Poriomania                   Sci-Fi, Thriller\n",
              "3                                        Ibara no Ou  Action, Mystery, Sci-Fi, Thriller\n",
              "4                                       Loups=Garous          Mystery, Sci-Fi, Thriller"
            ]
          },
          "metadata": {},
          "execution_count": 27
        }
      ]
    },
    {
      "cell_type": "markdown",
      "source": [
        "## Collaborative Based Filtering"
      ],
      "metadata": {
        "id": "muzlFNAyNI5z"
      }
    },
    {
      "cell_type": "markdown",
      "source": [
        "### Menyiapkan Tabel Rating"
      ],
      "metadata": {
        "id": "BiN9CRislWFG"
      }
    },
    {
      "cell_type": "code",
      "source": [
        "df = rating\n",
        "df"
      ],
      "metadata": {
        "colab": {
          "base_uri": "https://localhost:8080/",
          "height": 423
        },
        "id": "V-mtokrj3_f_",
        "outputId": "23b8b195-6226-4334-aa28-2cd988e29801"
      },
      "execution_count": 28,
      "outputs": [
        {
          "output_type": "execute_result",
          "data": {
            "text/html": [
              "<div>\n",
              "<style scoped>\n",
              "    .dataframe tbody tr th:only-of-type {\n",
              "        vertical-align: middle;\n",
              "    }\n",
              "\n",
              "    .dataframe tbody tr th {\n",
              "        vertical-align: top;\n",
              "    }\n",
              "\n",
              "    .dataframe thead th {\n",
              "        text-align: right;\n",
              "    }\n",
              "</style>\n",
              "<table border=\"1\" class=\"dataframe\">\n",
              "  <thead>\n",
              "    <tr style=\"text-align: right;\">\n",
              "      <th></th>\n",
              "      <th>user_id</th>\n",
              "      <th>anime_id</th>\n",
              "      <th>rating</th>\n",
              "    </tr>\n",
              "  </thead>\n",
              "  <tbody>\n",
              "    <tr>\n",
              "      <th>47</th>\n",
              "      <td>1</td>\n",
              "      <td>8074</td>\n",
              "      <td>10.0</td>\n",
              "    </tr>\n",
              "    <tr>\n",
              "      <th>81</th>\n",
              "      <td>1</td>\n",
              "      <td>11617</td>\n",
              "      <td>10.0</td>\n",
              "    </tr>\n",
              "    <tr>\n",
              "      <th>83</th>\n",
              "      <td>1</td>\n",
              "      <td>11757</td>\n",
              "      <td>10.0</td>\n",
              "    </tr>\n",
              "    <tr>\n",
              "      <th>101</th>\n",
              "      <td>1</td>\n",
              "      <td>15451</td>\n",
              "      <td>10.0</td>\n",
              "    </tr>\n",
              "    <tr>\n",
              "      <th>153</th>\n",
              "      <td>2</td>\n",
              "      <td>11771</td>\n",
              "      <td>10.0</td>\n",
              "    </tr>\n",
              "    <tr>\n",
              "      <th>...</th>\n",
              "      <td>...</td>\n",
              "      <td>...</td>\n",
              "      <td>...</td>\n",
              "    </tr>\n",
              "    <tr>\n",
              "      <th>1993</th>\n",
              "      <td>17</td>\n",
              "      <td>20899</td>\n",
              "      <td>9.0</td>\n",
              "    </tr>\n",
              "    <tr>\n",
              "      <th>1994</th>\n",
              "      <td>17</td>\n",
              "      <td>20903</td>\n",
              "      <td>6.0</td>\n",
              "    </tr>\n",
              "    <tr>\n",
              "      <th>1995</th>\n",
              "      <td>17</td>\n",
              "      <td>20931</td>\n",
              "      <td>5.0</td>\n",
              "    </tr>\n",
              "    <tr>\n",
              "      <th>1997</th>\n",
              "      <td>17</td>\n",
              "      <td>20965</td>\n",
              "      <td>6.0</td>\n",
              "    </tr>\n",
              "    <tr>\n",
              "      <th>1998</th>\n",
              "      <td>17</td>\n",
              "      <td>20973</td>\n",
              "      <td>6.0</td>\n",
              "    </tr>\n",
              "  </tbody>\n",
              "</table>\n",
              "<p>1452 rows × 3 columns</p>\n",
              "</div>"
            ],
            "text/plain": [
              "      user_id  anime_id  rating\n",
              "47          1      8074    10.0\n",
              "81          1     11617    10.0\n",
              "83          1     11757    10.0\n",
              "101         1     15451    10.0\n",
              "153         2     11771    10.0\n",
              "...       ...       ...     ...\n",
              "1993       17     20899     9.0\n",
              "1994       17     20903     6.0\n",
              "1995       17     20931     5.0\n",
              "1997       17     20965     6.0\n",
              "1998       17     20973     6.0\n",
              "\n",
              "[1452 rows x 3 columns]"
            ]
          },
          "metadata": {},
          "execution_count": 28
        }
      ]
    },
    {
      "cell_type": "markdown",
      "source": [
        "#### Encoding"
      ],
      "metadata": {
        "id": "jW1AXmWylbyY"
      }
    },
    {
      "cell_type": "code",
      "source": [
        "user_ids = df['user_id'].unique().tolist()\n",
        "print('list user_id: ', user_ids)\n",
        "\n",
        "user_to_user_encoded = {x: i for i, x in enumerate(user_ids)}\n",
        "print('encoded user_id : ', user_to_user_encoded)\n",
        "\n",
        "user_encoded_to_user = {i: x for i, x in enumerate(user_ids)}\n",
        "print('encoded angka ke user_id: ', user_encoded_to_user)"
      ],
      "metadata": {
        "colab": {
          "base_uri": "https://localhost:8080/"
        },
        "id": "OE7bk6sl4Eaf",
        "outputId": "319e9611-7f0e-451f-8baf-fc8d9c0f8d7e"
      },
      "execution_count": 29,
      "outputs": [
        {
          "output_type": "stream",
          "name": "stdout",
          "text": [
            "list user_id:  [1, 2, 3, 5, 7, 8, 9, 10, 11, 12, 14, 15, 16, 17]\n",
            "encoded user_id :  {1: 0, 2: 1, 3: 2, 5: 3, 7: 4, 8: 5, 9: 6, 10: 7, 11: 8, 12: 9, 14: 10, 15: 11, 16: 12, 17: 13}\n",
            "encoded angka ke user_id:  {0: 1, 1: 2, 2: 3, 3: 5, 4: 7, 5: 8, 6: 9, 7: 10, 8: 11, 9: 12, 10: 14, 11: 15, 12: 16, 13: 17}\n"
          ]
        }
      ]
    },
    {
      "cell_type": "code",
      "source": [
        "anime_ids = df['anime_id'].unique().tolist()\n",
        "\n",
        "anime_to_anime_encoded = {x: i for i, x in enumerate(anime_ids)}\n",
        "\n",
        "anime_encoded_to_anime = {i: x for i, x in enumerate(anime_ids)}"
      ],
      "metadata": {
        "id": "7hV2mpQI4U5n"
      },
      "execution_count": 30,
      "outputs": []
    },
    {
      "cell_type": "markdown",
      "source": [
        "#### Memetakan user_id dan anime_id"
      ],
      "metadata": {
        "id": "mTpC0tQSlxxP"
      }
    },
    {
      "cell_type": "code",
      "source": [
        "df['user'] = df['user_id'].map(user_to_user_encoded)\n",
        "\n",
        "df['anime'] = df['anime_id'].map(anime_to_anime_encoded)"
      ],
      "metadata": {
        "colab": {
          "base_uri": "https://localhost:8080/"
        },
        "id": "zDtjaUTK4iSm",
        "outputId": "67491186-a282-45de-c6b4-27298f714296"
      },
      "execution_count": 31,
      "outputs": [
        {
          "output_type": "stream",
          "name": "stderr",
          "text": [
            "/usr/local/lib/python3.7/dist-packages/ipykernel_launcher.py:1: SettingWithCopyWarning: \n",
            "A value is trying to be set on a copy of a slice from a DataFrame.\n",
            "Try using .loc[row_indexer,col_indexer] = value instead\n",
            "\n",
            "See the caveats in the documentation: https://pandas.pydata.org/pandas-docs/stable/user_guide/indexing.html#returning-a-view-versus-a-copy\n",
            "  \"\"\"Entry point for launching an IPython kernel.\n",
            "/usr/local/lib/python3.7/dist-packages/ipykernel_launcher.py:3: SettingWithCopyWarning: \n",
            "A value is trying to be set on a copy of a slice from a DataFrame.\n",
            "Try using .loc[row_indexer,col_indexer] = value instead\n",
            "\n",
            "See the caveats in the documentation: https://pandas.pydata.org/pandas-docs/stable/user_guide/indexing.html#returning-a-view-versus-a-copy\n",
            "  This is separate from the ipykernel package so we can avoid doing imports until\n"
          ]
        }
      ]
    },
    {
      "cell_type": "markdown",
      "source": [
        "#### Mengecek jumlah user, jumlah resto, rating terkecil, dan rating terbesar"
      ],
      "metadata": {
        "id": "Wc-1aXxsl5Tm"
      }
    },
    {
      "cell_type": "code",
      "source": [
        "num_users = len(user_to_user_encoded)\n",
        "print(num_users)\n",
        "\n",
        "num_anime = len(anime_encoded_to_anime)\n",
        "print(num_anime)\n",
        "\n",
        "min_rating = min(df['rating'])\n",
        "\n",
        "max_rating = max(df['rating'])\n",
        " \n",
        "print('Number of User: {}, Number of Anime: {}, Min Rating: {}, Max Rating: {}'.format(\n",
        "    num_users, num_anime, min_rating, max_rating\n",
        "))"
      ],
      "metadata": {
        "colab": {
          "base_uri": "https://localhost:8080/"
        },
        "id": "1K7tn3fO4uB3",
        "outputId": "21817d89-51f4-4ca8-be59-018dce883122"
      },
      "execution_count": 32,
      "outputs": [
        {
          "output_type": "stream",
          "name": "stdout",
          "text": [
            "14\n",
            "966\n",
            "Number of User: 14, Number of Anime: 966, Min Rating: 1.0, Max Rating: 10.0\n"
          ]
        }
      ]
    },
    {
      "cell_type": "markdown",
      "source": [
        "#### Mengacak Data"
      ],
      "metadata": {
        "id": "xBQ5yQ9hmEtX"
      }
    },
    {
      "cell_type": "code",
      "source": [
        "df = df.sample(frac=1, random_state=42)\n",
        "df"
      ],
      "metadata": {
        "colab": {
          "base_uri": "https://localhost:8080/",
          "height": 423
        },
        "id": "D7E-9lRZ5FH2",
        "outputId": "fd07b41e-c30b-45b0-a917-a201e73e70f8"
      },
      "execution_count": 33,
      "outputs": [
        {
          "output_type": "execute_result",
          "data": {
            "text/html": [
              "<div>\n",
              "<style scoped>\n",
              "    .dataframe tbody tr th:only-of-type {\n",
              "        vertical-align: middle;\n",
              "    }\n",
              "\n",
              "    .dataframe tbody tr th {\n",
              "        vertical-align: top;\n",
              "    }\n",
              "\n",
              "    .dataframe thead th {\n",
              "        text-align: right;\n",
              "    }\n",
              "</style>\n",
              "<table border=\"1\" class=\"dataframe\">\n",
              "  <thead>\n",
              "    <tr style=\"text-align: right;\">\n",
              "      <th></th>\n",
              "      <th>user_id</th>\n",
              "      <th>anime_id</th>\n",
              "      <th>rating</th>\n",
              "      <th>user</th>\n",
              "      <th>anime</th>\n",
              "    </tr>\n",
              "  </thead>\n",
              "  <tbody>\n",
              "    <tr>\n",
              "      <th>1293</th>\n",
              "      <td>12</td>\n",
              "      <td>2904</td>\n",
              "      <td>10.0</td>\n",
              "      <td>9</td>\n",
              "      <td>549</td>\n",
              "    </tr>\n",
              "    <tr>\n",
              "      <th>1555</th>\n",
              "      <td>14</td>\n",
              "      <td>11887</td>\n",
              "      <td>8.0</td>\n",
              "      <td>10</td>\n",
              "      <td>831</td>\n",
              "    </tr>\n",
              "    <tr>\n",
              "      <th>1254</th>\n",
              "      <td>11</td>\n",
              "      <td>6707</td>\n",
              "      <td>4.0</td>\n",
              "      <td>8</td>\n",
              "      <td>774</td>\n",
              "    </tr>\n",
              "    <tr>\n",
              "      <th>1796</th>\n",
              "      <td>17</td>\n",
              "      <td>10396</td>\n",
              "      <td>5.0</td>\n",
              "      <td>13</td>\n",
              "      <td>310</td>\n",
              "    </tr>\n",
              "    <tr>\n",
              "      <th>739</th>\n",
              "      <td>5</td>\n",
              "      <td>25157</td>\n",
              "      <td>1.0</td>\n",
              "      <td>3</td>\n",
              "      <td>490</td>\n",
              "    </tr>\n",
              "    <tr>\n",
              "      <th>...</th>\n",
              "      <td>...</td>\n",
              "      <td>...</td>\n",
              "      <td>...</td>\n",
              "      <td>...</td>\n",
              "      <td>...</td>\n",
              "    </tr>\n",
              "    <tr>\n",
              "      <th>1526</th>\n",
              "      <td>14</td>\n",
              "      <td>8676</td>\n",
              "      <td>7.0</td>\n",
              "      <td>10</td>\n",
              "      <td>819</td>\n",
              "    </tr>\n",
              "    <tr>\n",
              "      <th>1561</th>\n",
              "      <td>14</td>\n",
              "      <td>14345</td>\n",
              "      <td>7.0</td>\n",
              "      <td>10</td>\n",
              "      <td>53</td>\n",
              "    </tr>\n",
              "    <tr>\n",
              "      <th>1759</th>\n",
              "      <td>17</td>\n",
              "      <td>8100</td>\n",
              "      <td>7.0</td>\n",
              "      <td>13</td>\n",
              "      <td>904</td>\n",
              "    </tr>\n",
              "    <tr>\n",
              "      <th>1110</th>\n",
              "      <td>7</td>\n",
              "      <td>30365</td>\n",
              "      <td>7.0</td>\n",
              "      <td>4</td>\n",
              "      <td>677</td>\n",
              "    </tr>\n",
              "    <tr>\n",
              "      <th>1557</th>\n",
              "      <td>14</td>\n",
              "      <td>13367</td>\n",
              "      <td>7.0</td>\n",
              "      <td>10</td>\n",
              "      <td>350</td>\n",
              "    </tr>\n",
              "  </tbody>\n",
              "</table>\n",
              "<p>1452 rows × 5 columns</p>\n",
              "</div>"
            ],
            "text/plain": [
              "      user_id  anime_id  rating  user  anime\n",
              "1293       12      2904    10.0     9    549\n",
              "1555       14     11887     8.0    10    831\n",
              "1254       11      6707     4.0     8    774\n",
              "1796       17     10396     5.0    13    310\n",
              "739         5     25157     1.0     3    490\n",
              "...       ...       ...     ...   ...    ...\n",
              "1526       14      8676     7.0    10    819\n",
              "1561       14     14345     7.0    10     53\n",
              "1759       17      8100     7.0    13    904\n",
              "1110        7     30365     7.0     4    677\n",
              "1557       14     13367     7.0    10    350\n",
              "\n",
              "[1452 rows x 5 columns]"
            ]
          },
          "metadata": {},
          "execution_count": 33
        }
      ]
    },
    {
      "cell_type": "markdown",
      "source": [
        "### Train-Test Split"
      ],
      "metadata": {
        "id": "JgY3lYC5mG2_"
      }
    },
    {
      "cell_type": "code",
      "source": [
        "x = df[['user', 'anime']].values\n",
        "\n",
        "y = df['rating'].apply(lambda x: (x - min_rating) / (max_rating - min_rating)).values\n",
        "\n",
        "train_indices = int(0.8 * df.shape[0])\n",
        "x_train, x_val, y_train, y_val = (\n",
        "    x[:train_indices],\n",
        "    x[train_indices:],\n",
        "    y[:train_indices],\n",
        "    y[train_indices:]\n",
        ")\n",
        " \n",
        "print(x, y)"
      ],
      "metadata": {
        "colab": {
          "base_uri": "https://localhost:8080/"
        },
        "id": "FWAog9te5Le-",
        "outputId": "8d3f8fa3-4ee4-45e0-a576-24791c4d2754"
      },
      "execution_count": 34,
      "outputs": [
        {
          "output_type": "stream",
          "name": "stdout",
          "text": [
            "[[  9 549]\n",
            " [ 10 831]\n",
            " [  8 774]\n",
            " ...\n",
            " [ 13 904]\n",
            " [  4 677]\n",
            " [ 10 350]] [1.         0.77777778 0.33333333 ... 0.66666667 0.66666667 0.66666667]\n"
          ]
        }
      ]
    },
    {
      "cell_type": "markdown",
      "source": [
        "### Fungsi Rekomendasi"
      ],
      "metadata": {
        "id": "XjbXtXo-mNwd"
      }
    },
    {
      "cell_type": "code",
      "source": [
        "class RecommenderNet(tf.keras.Model):\n",
        "\n",
        "  def __init__(self, num_users, num_anime, embedding_size, **kwargs):\n",
        "    super(RecommenderNet, self).__init__(**kwargs)\n",
        "    self.num_users = num_users\n",
        "    self.num_anime = num_anime\n",
        "    self.embedding_size = embedding_size\n",
        "    self.user_embedding = layers.Embedding(\n",
        "        num_users,\n",
        "        embedding_size,\n",
        "        embeddings_initializer = 'he_normal',\n",
        "        embeddings_regularizer = keras.regularizers.l2(1e-6)\n",
        "    )\n",
        "    self.user_bias = layers.Embedding(num_users, 1)\n",
        "    self.anime_embedding = layers.Embedding(\n",
        "        num_anime,\n",
        "        embedding_size,\n",
        "        embeddings_initializer = 'he_normal',\n",
        "        embeddings_regularizer = keras.regularizers.l2(1e-6)\n",
        "    )\n",
        "    self.anime_bias = layers.Embedding(num_anime, 1)\n",
        " \n",
        "  def call(self, inputs):\n",
        "    user_vector = self.user_embedding(inputs[:,0])\n",
        "    user_bias = self.user_bias(inputs[:, 0])\n",
        "    anime_vector = self.anime_embedding(inputs[:, 1])\n",
        "    anime_bias = self.anime_bias(inputs[:, 1])\n",
        " \n",
        "    dot_user_anime = tf.tensordot(user_vector, anime_vector, 2) \n",
        " \n",
        "    x = dot_user_anime + user_bias + anime_bias\n",
        "    \n",
        "    return tf.nn.sigmoid(x)"
      ],
      "metadata": {
        "id": "duQsRiFV6dE_"
      },
      "execution_count": 35,
      "outputs": []
    },
    {
      "cell_type": "markdown",
      "source": [
        "### Compile Model"
      ],
      "metadata": {
        "id": "vnDGZLnSmb_Y"
      }
    },
    {
      "cell_type": "code",
      "source": [
        "model = RecommenderNet(num_users, num_anime, 50)\n",
        " \n",
        "model.compile(\n",
        "    loss = tf.keras.losses.BinaryCrossentropy(),\n",
        "    optimizer = keras.optimizers.Adam(learning_rate=0.001),\n",
        "    metrics=[tf.keras.metrics.RootMeanSquaredError()]\n",
        ")"
      ],
      "metadata": {
        "id": "qyyuF8ac9ALn"
      },
      "execution_count": 36,
      "outputs": []
    },
    {
      "cell_type": "markdown",
      "source": [
        "### Training Model"
      ],
      "metadata": {
        "id": "NycJxGYQmdvG"
      }
    },
    {
      "cell_type": "code",
      "source": [
        "history = model.fit(\n",
        "    x = x_train,\n",
        "    y = y_train,\n",
        "    batch_size = 8,\n",
        "    epochs = 100,\n",
        "    validation_data = (x_val, y_val)\n",
        ")"
      ],
      "metadata": {
        "colab": {
          "base_uri": "https://localhost:8080/"
        },
        "id": "HD5dW2Qa9E4Y",
        "outputId": "9110aa56-0958-490e-fe7c-63e322de6e0d"
      },
      "execution_count": 37,
      "outputs": [
        {
          "output_type": "stream",
          "name": "stdout",
          "text": [
            "Epoch 1/100\n",
            "146/146 [==============================] - 4s 8ms/step - loss: 0.6942 - root_mean_squared_error: 0.2680 - val_loss: 0.6847 - val_root_mean_squared_error: 0.2661\n",
            "Epoch 2/100\n",
            "146/146 [==============================] - 1s 6ms/step - loss: 0.6743 - root_mean_squared_error: 0.2483 - val_loss: 0.6806 - val_root_mean_squared_error: 0.2622\n",
            "Epoch 3/100\n",
            "146/146 [==============================] - 1s 6ms/step - loss: 0.6588 - root_mean_squared_error: 0.2332 - val_loss: 0.6743 - val_root_mean_squared_error: 0.2561\n",
            "Epoch 4/100\n",
            "146/146 [==============================] - 1s 6ms/step - loss: 0.6541 - root_mean_squared_error: 0.2279 - val_loss: 0.6713 - val_root_mean_squared_error: 0.2531\n",
            "Epoch 5/100\n",
            "146/146 [==============================] - 1s 6ms/step - loss: 0.6411 - root_mean_squared_error: 0.2146 - val_loss: 0.6654 - val_root_mean_squared_error: 0.2473\n",
            "Epoch 6/100\n",
            "146/146 [==============================] - 1s 6ms/step - loss: 0.6374 - root_mean_squared_error: 0.2097 - val_loss: 0.6636 - val_root_mean_squared_error: 0.2454\n",
            "Epoch 7/100\n",
            "146/146 [==============================] - 1s 6ms/step - loss: 0.6331 - root_mean_squared_error: 0.2056 - val_loss: 0.6589 - val_root_mean_squared_error: 0.2406\n",
            "Epoch 8/100\n",
            "146/146 [==============================] - 1s 6ms/step - loss: 0.6279 - root_mean_squared_error: 0.1992 - val_loss: 0.6576 - val_root_mean_squared_error: 0.2393\n",
            "Epoch 9/100\n",
            "146/146 [==============================] - 1s 6ms/step - loss: 0.6249 - root_mean_squared_error: 0.1954 - val_loss: 0.6552 - val_root_mean_squared_error: 0.2367\n",
            "Epoch 10/100\n",
            "146/146 [==============================] - 1s 6ms/step - loss: 0.6228 - root_mean_squared_error: 0.1932 - val_loss: 0.6538 - val_root_mean_squared_error: 0.2352\n",
            "Epoch 11/100\n",
            "146/146 [==============================] - 1s 6ms/step - loss: 0.6148 - root_mean_squared_error: 0.1831 - val_loss: 0.6522 - val_root_mean_squared_error: 0.2335\n",
            "Epoch 12/100\n",
            "146/146 [==============================] - 1s 6ms/step - loss: 0.6145 - root_mean_squared_error: 0.1834 - val_loss: 0.6511 - val_root_mean_squared_error: 0.2323\n",
            "Epoch 13/100\n",
            "146/146 [==============================] - 1s 6ms/step - loss: 0.6134 - root_mean_squared_error: 0.1815 - val_loss: 0.6497 - val_root_mean_squared_error: 0.2308\n",
            "Epoch 14/100\n",
            "146/146 [==============================] - 1s 6ms/step - loss: 0.6099 - root_mean_squared_error: 0.1770 - val_loss: 0.6486 - val_root_mean_squared_error: 0.2296\n",
            "Epoch 15/100\n",
            "146/146 [==============================] - 1s 6ms/step - loss: 0.6068 - root_mean_squared_error: 0.1734 - val_loss: 0.6475 - val_root_mean_squared_error: 0.2284\n",
            "Epoch 16/100\n",
            "146/146 [==============================] - 1s 6ms/step - loss: 0.6045 - root_mean_squared_error: 0.1703 - val_loss: 0.6464 - val_root_mean_squared_error: 0.2273\n",
            "Epoch 17/100\n",
            "146/146 [==============================] - 1s 6ms/step - loss: 0.6024 - root_mean_squared_error: 0.1675 - val_loss: 0.6455 - val_root_mean_squared_error: 0.2264\n",
            "Epoch 18/100\n",
            "146/146 [==============================] - 1s 6ms/step - loss: 0.6006 - root_mean_squared_error: 0.1647 - val_loss: 0.6452 - val_root_mean_squared_error: 0.2260\n",
            "Epoch 19/100\n",
            "146/146 [==============================] - 1s 6ms/step - loss: 0.6011 - root_mean_squared_error: 0.1661 - val_loss: 0.6452 - val_root_mean_squared_error: 0.2259\n",
            "Epoch 20/100\n",
            "146/146 [==============================] - 1s 6ms/step - loss: 0.5973 - root_mean_squared_error: 0.1610 - val_loss: 0.6454 - val_root_mean_squared_error: 0.2260\n",
            "Epoch 21/100\n",
            "146/146 [==============================] - 1s 6ms/step - loss: 0.5950 - root_mean_squared_error: 0.1577 - val_loss: 0.6458 - val_root_mean_squared_error: 0.2265\n",
            "Epoch 22/100\n",
            "146/146 [==============================] - 1s 6ms/step - loss: 0.5957 - root_mean_squared_error: 0.1590 - val_loss: 0.6453 - val_root_mean_squared_error: 0.2260\n",
            "Epoch 23/100\n",
            "146/146 [==============================] - 1s 6ms/step - loss: 0.5947 - root_mean_squared_error: 0.1575 - val_loss: 0.6445 - val_root_mean_squared_error: 0.2252\n",
            "Epoch 24/100\n",
            "146/146 [==============================] - 1s 6ms/step - loss: 0.5923 - root_mean_squared_error: 0.1541 - val_loss: 0.6453 - val_root_mean_squared_error: 0.2260\n",
            "Epoch 25/100\n",
            "146/146 [==============================] - 1s 6ms/step - loss: 0.5925 - root_mean_squared_error: 0.1544 - val_loss: 0.6454 - val_root_mean_squared_error: 0.2261\n",
            "Epoch 26/100\n",
            "146/146 [==============================] - 1s 6ms/step - loss: 0.5907 - root_mean_squared_error: 0.1517 - val_loss: 0.6448 - val_root_mean_squared_error: 0.2254\n",
            "Epoch 27/100\n",
            "146/146 [==============================] - 1s 7ms/step - loss: 0.5898 - root_mean_squared_error: 0.1505 - val_loss: 0.6449 - val_root_mean_squared_error: 0.2256\n",
            "Epoch 28/100\n",
            "146/146 [==============================] - 1s 6ms/step - loss: 0.5883 - root_mean_squared_error: 0.1485 - val_loss: 0.6447 - val_root_mean_squared_error: 0.2254\n",
            "Epoch 29/100\n",
            "146/146 [==============================] - 1s 6ms/step - loss: 0.5868 - root_mean_squared_error: 0.1462 - val_loss: 0.6447 - val_root_mean_squared_error: 0.2255\n",
            "Epoch 30/100\n",
            "146/146 [==============================] - 1s 7ms/step - loss: 0.5865 - root_mean_squared_error: 0.1457 - val_loss: 0.6444 - val_root_mean_squared_error: 0.2251\n",
            "Epoch 31/100\n",
            "146/146 [==============================] - 1s 6ms/step - loss: 0.5855 - root_mean_squared_error: 0.1443 - val_loss: 0.6439 - val_root_mean_squared_error: 0.2246\n",
            "Epoch 32/100\n",
            "146/146 [==============================] - 1s 6ms/step - loss: 0.5844 - root_mean_squared_error: 0.1428 - val_loss: 0.6439 - val_root_mean_squared_error: 0.2247\n",
            "Epoch 33/100\n",
            "146/146 [==============================] - 1s 7ms/step - loss: 0.5838 - root_mean_squared_error: 0.1418 - val_loss: 0.6438 - val_root_mean_squared_error: 0.2246\n",
            "Epoch 34/100\n",
            "146/146 [==============================] - 1s 6ms/step - loss: 0.5825 - root_mean_squared_error: 0.1398 - val_loss: 0.6433 - val_root_mean_squared_error: 0.2241\n",
            "Epoch 35/100\n",
            "146/146 [==============================] - 1s 6ms/step - loss: 0.5826 - root_mean_squared_error: 0.1403 - val_loss: 0.6438 - val_root_mean_squared_error: 0.2246\n",
            "Epoch 36/100\n",
            "146/146 [==============================] - 1s 7ms/step - loss: 0.5803 - root_mean_squared_error: 0.1365 - val_loss: 0.6432 - val_root_mean_squared_error: 0.2240\n",
            "Epoch 37/100\n",
            "146/146 [==============================] - 1s 6ms/step - loss: 0.5804 - root_mean_squared_error: 0.1366 - val_loss: 0.6441 - val_root_mean_squared_error: 0.2249\n",
            "Epoch 38/100\n",
            "146/146 [==============================] - 1s 6ms/step - loss: 0.5800 - root_mean_squared_error: 0.1364 - val_loss: 0.6433 - val_root_mean_squared_error: 0.2241\n",
            "Epoch 39/100\n",
            "146/146 [==============================] - 1s 6ms/step - loss: 0.5790 - root_mean_squared_error: 0.1348 - val_loss: 0.6431 - val_root_mean_squared_error: 0.2239\n",
            "Epoch 40/100\n",
            "146/146 [==============================] - 1s 6ms/step - loss: 0.5769 - root_mean_squared_error: 0.1309 - val_loss: 0.6426 - val_root_mean_squared_error: 0.2234\n",
            "Epoch 41/100\n",
            "146/146 [==============================] - 1s 6ms/step - loss: 0.5772 - root_mean_squared_error: 0.1319 - val_loss: 0.6423 - val_root_mean_squared_error: 0.2231\n",
            "Epoch 42/100\n",
            "146/146 [==============================] - 1s 6ms/step - loss: 0.5776 - root_mean_squared_error: 0.1323 - val_loss: 0.6417 - val_root_mean_squared_error: 0.2225\n",
            "Epoch 43/100\n",
            "146/146 [==============================] - 1s 6ms/step - loss: 0.5759 - root_mean_squared_error: 0.1299 - val_loss: 0.6410 - val_root_mean_squared_error: 0.2218\n",
            "Epoch 44/100\n",
            "146/146 [==============================] - 1s 6ms/step - loss: 0.5748 - root_mean_squared_error: 0.1281 - val_loss: 0.6395 - val_root_mean_squared_error: 0.2203\n",
            "Epoch 45/100\n",
            "146/146 [==============================] - 2s 11ms/step - loss: 0.5745 - root_mean_squared_error: 0.1274 - val_loss: 0.6406 - val_root_mean_squared_error: 0.2214\n",
            "Epoch 46/100\n",
            "146/146 [==============================] - 1s 7ms/step - loss: 0.5745 - root_mean_squared_error: 0.1276 - val_loss: 0.6397 - val_root_mean_squared_error: 0.2205\n",
            "Epoch 47/100\n",
            "146/146 [==============================] - 1s 6ms/step - loss: 0.5743 - root_mean_squared_error: 0.1270 - val_loss: 0.6398 - val_root_mean_squared_error: 0.2206\n",
            "Epoch 48/100\n",
            "146/146 [==============================] - 1s 6ms/step - loss: 0.5725 - root_mean_squared_error: 0.1245 - val_loss: 0.6383 - val_root_mean_squared_error: 0.2190\n",
            "Epoch 49/100\n",
            "146/146 [==============================] - 1s 6ms/step - loss: 0.5727 - root_mean_squared_error: 0.1245 - val_loss: 0.6382 - val_root_mean_squared_error: 0.2190\n",
            "Epoch 50/100\n",
            "146/146 [==============================] - 1s 6ms/step - loss: 0.5710 - root_mean_squared_error: 0.1218 - val_loss: 0.6373 - val_root_mean_squared_error: 0.2181\n",
            "Epoch 51/100\n",
            "146/146 [==============================] - 1s 6ms/step - loss: 0.5710 - root_mean_squared_error: 0.1218 - val_loss: 0.6381 - val_root_mean_squared_error: 0.2189\n",
            "Epoch 52/100\n",
            "146/146 [==============================] - 1s 7ms/step - loss: 0.5706 - root_mean_squared_error: 0.1212 - val_loss: 0.6383 - val_root_mean_squared_error: 0.2192\n",
            "Epoch 53/100\n",
            "146/146 [==============================] - 1s 6ms/step - loss: 0.5706 - root_mean_squared_error: 0.1207 - val_loss: 0.6375 - val_root_mean_squared_error: 0.2184\n",
            "Epoch 54/100\n",
            "146/146 [==============================] - 1s 6ms/step - loss: 0.5702 - root_mean_squared_error: 0.1203 - val_loss: 0.6374 - val_root_mean_squared_error: 0.2184\n",
            "Epoch 55/100\n",
            "146/146 [==============================] - 2s 13ms/step - loss: 0.5687 - root_mean_squared_error: 0.1175 - val_loss: 0.6385 - val_root_mean_squared_error: 0.2196\n",
            "Epoch 56/100\n",
            "146/146 [==============================] - 1s 6ms/step - loss: 0.5681 - root_mean_squared_error: 0.1167 - val_loss: 0.6377 - val_root_mean_squared_error: 0.2187\n",
            "Epoch 57/100\n",
            "146/146 [==============================] - 1s 6ms/step - loss: 0.5675 - root_mean_squared_error: 0.1157 - val_loss: 0.6378 - val_root_mean_squared_error: 0.2188\n",
            "Epoch 58/100\n",
            "146/146 [==============================] - 1s 6ms/step - loss: 0.5670 - root_mean_squared_error: 0.1146 - val_loss: 0.6375 - val_root_mean_squared_error: 0.2185\n",
            "Epoch 59/100\n",
            "146/146 [==============================] - 1s 6ms/step - loss: 0.5671 - root_mean_squared_error: 0.1148 - val_loss: 0.6367 - val_root_mean_squared_error: 0.2177\n",
            "Epoch 60/100\n",
            "146/146 [==============================] - 1s 6ms/step - loss: 0.5664 - root_mean_squared_error: 0.1139 - val_loss: 0.6359 - val_root_mean_squared_error: 0.2169\n",
            "Epoch 61/100\n",
            "146/146 [==============================] - 1s 6ms/step - loss: 0.5654 - root_mean_squared_error: 0.1120 - val_loss: 0.6364 - val_root_mean_squared_error: 0.2175\n",
            "Epoch 62/100\n",
            "146/146 [==============================] - 1s 9ms/step - loss: 0.5654 - root_mean_squared_error: 0.1126 - val_loss: 0.6358 - val_root_mean_squared_error: 0.2168\n",
            "Epoch 63/100\n",
            "146/146 [==============================] - 1s 7ms/step - loss: 0.5652 - root_mean_squared_error: 0.1115 - val_loss: 0.6361 - val_root_mean_squared_error: 0.2172\n",
            "Epoch 64/100\n",
            "146/146 [==============================] - 1s 7ms/step - loss: 0.5649 - root_mean_squared_error: 0.1113 - val_loss: 0.6358 - val_root_mean_squared_error: 0.2169\n",
            "Epoch 65/100\n",
            "146/146 [==============================] - 1s 7ms/step - loss: 0.5634 - root_mean_squared_error: 0.1082 - val_loss: 0.6367 - val_root_mean_squared_error: 0.2178\n",
            "Epoch 66/100\n",
            "146/146 [==============================] - 1s 6ms/step - loss: 0.5637 - root_mean_squared_error: 0.1091 - val_loss: 0.6354 - val_root_mean_squared_error: 0.2165\n",
            "Epoch 67/100\n",
            "146/146 [==============================] - 1s 6ms/step - loss: 0.5628 - root_mean_squared_error: 0.1073 - val_loss: 0.6358 - val_root_mean_squared_error: 0.2168\n",
            "Epoch 68/100\n",
            "146/146 [==============================] - 1s 6ms/step - loss: 0.5622 - root_mean_squared_error: 0.1057 - val_loss: 0.6356 - val_root_mean_squared_error: 0.2167\n",
            "Epoch 69/100\n",
            "146/146 [==============================] - 1s 7ms/step - loss: 0.5628 - root_mean_squared_error: 0.1077 - val_loss: 0.6347 - val_root_mean_squared_error: 0.2157\n",
            "Epoch 70/100\n",
            "146/146 [==============================] - 1s 6ms/step - loss: 0.5625 - root_mean_squared_error: 0.1068 - val_loss: 0.6335 - val_root_mean_squared_error: 0.2146\n",
            "Epoch 71/100\n",
            "146/146 [==============================] - 1s 6ms/step - loss: 0.5621 - root_mean_squared_error: 0.1058 - val_loss: 0.6339 - val_root_mean_squared_error: 0.2149\n",
            "Epoch 72/100\n",
            "146/146 [==============================] - 1s 6ms/step - loss: 0.5618 - root_mean_squared_error: 0.1054 - val_loss: 0.6337 - val_root_mean_squared_error: 0.2147\n",
            "Epoch 73/100\n",
            "146/146 [==============================] - 1s 6ms/step - loss: 0.5600 - root_mean_squared_error: 0.1019 - val_loss: 0.6344 - val_root_mean_squared_error: 0.2155\n",
            "Epoch 74/100\n",
            "146/146 [==============================] - 1s 6ms/step - loss: 0.5605 - root_mean_squared_error: 0.1027 - val_loss: 0.6344 - val_root_mean_squared_error: 0.2155\n",
            "Epoch 75/100\n",
            "146/146 [==============================] - 1s 6ms/step - loss: 0.5606 - root_mean_squared_error: 0.1032 - val_loss: 0.6348 - val_root_mean_squared_error: 0.2159\n",
            "Epoch 76/100\n",
            "146/146 [==============================] - 1s 6ms/step - loss: 0.5601 - root_mean_squared_error: 0.1020 - val_loss: 0.6351 - val_root_mean_squared_error: 0.2163\n",
            "Epoch 77/100\n",
            "146/146 [==============================] - 1s 6ms/step - loss: 0.5595 - root_mean_squared_error: 0.1006 - val_loss: 0.6353 - val_root_mean_squared_error: 0.2165\n",
            "Epoch 78/100\n",
            "146/146 [==============================] - 1s 6ms/step - loss: 0.5594 - root_mean_squared_error: 0.1012 - val_loss: 0.6350 - val_root_mean_squared_error: 0.2162\n",
            "Epoch 79/100\n",
            "146/146 [==============================] - 1s 6ms/step - loss: 0.5588 - root_mean_squared_error: 0.0995 - val_loss: 0.6355 - val_root_mean_squared_error: 0.2167\n",
            "Epoch 80/100\n",
            "146/146 [==============================] - 1s 6ms/step - loss: 0.5593 - root_mean_squared_error: 0.1010 - val_loss: 0.6349 - val_root_mean_squared_error: 0.2161\n",
            "Epoch 81/100\n",
            "146/146 [==============================] - 1s 6ms/step - loss: 0.5588 - root_mean_squared_error: 0.0994 - val_loss: 0.6348 - val_root_mean_squared_error: 0.2161\n",
            "Epoch 82/100\n",
            "146/146 [==============================] - 1s 6ms/step - loss: 0.5582 - root_mean_squared_error: 0.0988 - val_loss: 0.6341 - val_root_mean_squared_error: 0.2153\n",
            "Epoch 83/100\n",
            "146/146 [==============================] - 1s 6ms/step - loss: 0.5576 - root_mean_squared_error: 0.0974 - val_loss: 0.6345 - val_root_mean_squared_error: 0.2158\n",
            "Epoch 84/100\n",
            "146/146 [==============================] - 1s 6ms/step - loss: 0.5579 - root_mean_squared_error: 0.0983 - val_loss: 0.6342 - val_root_mean_squared_error: 0.2155\n",
            "Epoch 85/100\n",
            "146/146 [==============================] - 1s 6ms/step - loss: 0.5574 - root_mean_squared_error: 0.0970 - val_loss: 0.6347 - val_root_mean_squared_error: 0.2160\n",
            "Epoch 86/100\n",
            "146/146 [==============================] - 1s 6ms/step - loss: 0.5570 - root_mean_squared_error: 0.0968 - val_loss: 0.6351 - val_root_mean_squared_error: 0.2163\n",
            "Epoch 87/100\n",
            "146/146 [==============================] - 1s 7ms/step - loss: 0.5569 - root_mean_squared_error: 0.0961 - val_loss: 0.6357 - val_root_mean_squared_error: 0.2170\n",
            "Epoch 88/100\n",
            "146/146 [==============================] - 1s 6ms/step - loss: 0.5567 - root_mean_squared_error: 0.0964 - val_loss: 0.6350 - val_root_mean_squared_error: 0.2163\n",
            "Epoch 89/100\n",
            "146/146 [==============================] - 1s 7ms/step - loss: 0.5563 - root_mean_squared_error: 0.0950 - val_loss: 0.6360 - val_root_mean_squared_error: 0.2173\n",
            "Epoch 90/100\n",
            "146/146 [==============================] - 1s 6ms/step - loss: 0.5560 - root_mean_squared_error: 0.0945 - val_loss: 0.6354 - val_root_mean_squared_error: 0.2166\n",
            "Epoch 91/100\n",
            "146/146 [==============================] - 1s 7ms/step - loss: 0.5560 - root_mean_squared_error: 0.0944 - val_loss: 0.6351 - val_root_mean_squared_error: 0.2164\n",
            "Epoch 92/100\n",
            "146/146 [==============================] - 1s 6ms/step - loss: 0.5553 - root_mean_squared_error: 0.0935 - val_loss: 0.6349 - val_root_mean_squared_error: 0.2161\n",
            "Epoch 93/100\n",
            "146/146 [==============================] - 1s 7ms/step - loss: 0.5553 - root_mean_squared_error: 0.0936 - val_loss: 0.6337 - val_root_mean_squared_error: 0.2149\n",
            "Epoch 94/100\n",
            "146/146 [==============================] - 1s 7ms/step - loss: 0.5554 - root_mean_squared_error: 0.0934 - val_loss: 0.6344 - val_root_mean_squared_error: 0.2156\n",
            "Epoch 95/100\n",
            "146/146 [==============================] - 1s 6ms/step - loss: 0.5547 - root_mean_squared_error: 0.0918 - val_loss: 0.6349 - val_root_mean_squared_error: 0.2161\n",
            "Epoch 96/100\n",
            "146/146 [==============================] - 1s 7ms/step - loss: 0.5552 - root_mean_squared_error: 0.0932 - val_loss: 0.6347 - val_root_mean_squared_error: 0.2159\n",
            "Epoch 97/100\n",
            "146/146 [==============================] - 1s 10ms/step - loss: 0.5547 - root_mean_squared_error: 0.0920 - val_loss: 0.6348 - val_root_mean_squared_error: 0.2159\n",
            "Epoch 98/100\n",
            "146/146 [==============================] - 1s 7ms/step - loss: 0.5544 - root_mean_squared_error: 0.0917 - val_loss: 0.6355 - val_root_mean_squared_error: 0.2167\n",
            "Epoch 99/100\n",
            "146/146 [==============================] - 1s 6ms/step - loss: 0.5543 - root_mean_squared_error: 0.0914 - val_loss: 0.6353 - val_root_mean_squared_error: 0.2165\n",
            "Epoch 100/100\n",
            "146/146 [==============================] - 1s 7ms/step - loss: 0.5538 - root_mean_squared_error: 0.0905 - val_loss: 0.6345 - val_root_mean_squared_error: 0.2157\n"
          ]
        }
      ]
    },
    {
      "cell_type": "markdown",
      "source": [
        "### Visualisasi Metrik"
      ],
      "metadata": {
        "id": "bFECR61bmiou"
      }
    },
    {
      "cell_type": "code",
      "source": [
        "plt.plot(history.history['root_mean_squared_error'])\n",
        "plt.plot(history.history['val_root_mean_squared_error'])\n",
        "plt.title('model_metrics')\n",
        "plt.ylabel('root_mean_squared_error')\n",
        "plt.xlabel('epoch')\n",
        "plt.legend(['train', 'test'], loc='upper left')\n",
        "plt.show()"
      ],
      "metadata": {
        "colab": {
          "base_uri": "https://localhost:8080/",
          "height": 295
        },
        "id": "3Ht8nXbPeJG1",
        "outputId": "d725d5fd-a60f-4d42-f13d-57b5fc8f57e9"
      },
      "execution_count": 38,
      "outputs": [
        {
          "output_type": "display_data",
          "data": {
            "image/png": "[encoded data removed]",
            "text/plain": [
              "<Figure size 432x288 with 1 Axes>"
            ]
          },
          "metadata": {
            "needs_background": "light"
          }
        }
      ]
    },
    {
      "cell_type": "markdown",
      "source": [
        "### Mendapatkan Rekomendasi Resto"
      ],
      "metadata": {
        "id": "rTKRLsnVmnug"
      }
    },
    {
      "cell_type": "code",
      "source": [
        "anime_df = anime\n",
        "df = rating\n",
        "\n",
        "userID = df.user_id.sample(1).iloc[0]\n",
        "anime_watched_by_user = df[df.user_id == userID]\n",
        " \n",
        "anime_not_watched = anime_df[~anime_df['anime_id'].isin(anime_watched_by_user.anime_id.values)]['anime_id'] \n",
        "anime_not_watched = list(\n",
        "    set(anime_not_watched)\n",
        "    .intersection(set(anime_to_anime_encoded.keys()))\n",
        ")\n",
        " \n",
        "anime_not_watched = [[anime_to_anime_encoded.get(x)] for x in anime_not_watched]\n",
        "user_encoder = user_to_user_encoded.get(userID)\n",
        "user_anime_array = np.hstack(\n",
        "    ([[user_encoder]] * len(anime_not_watched), anime_not_watched)\n",
        ")"
      ],
      "metadata": {
        "id": "VdpsDGISe9mW"
      },
      "execution_count": 39,
      "outputs": []
    },
    {
      "cell_type": "code",
      "source": [
        "from tensorflow import keras\n",
        "\n",
        "ratings = model.predict(user_anime_array).flatten()\n",
        " \n",
        "top_ratings_indices = ratings.argsort()[-10:][::-1]\n",
        "recommended_anime_ids = [\n",
        "    anime_encoded_to_anime.get(anime_not_watched[x][0]) for x in top_ratings_indices\n",
        "]\n",
        " \n",
        "print('Showing recommendations for users: {}'.format(userID))\n",
        "print('===' * 9)\n",
        "print('Anime with high ratings from user')\n",
        "print('----' * 8)\n",
        " \n",
        "top_anime_user = (\n",
        "    anime_watched_by_user.sort_values(\n",
        "        by = 'rating',\n",
        "        ascending=False\n",
        "    )\n",
        "    .head(5)\n",
        "    .anime_id.values\n",
        ")\n",
        " \n",
        "anime_df_rows = anime_df[anime_df['anime_id'].isin(top_anime_user)]\n",
        "for row in anime_df_rows.itertuples():\n",
        "    print(row.name, ':', row.genre)\n",
        " \n",
        "print('----' * 8)\n",
        "print('Top 10 anime recommendation')\n",
        "print('----' * 8)\n",
        " \n",
        "recommended_anime = anime_df[anime_df['anime_id'].isin(recommended_anime_ids)]\n",
        "for row in recommended_anime.itertuples():\n",
        "    print(row.name, ':', row.genre)"
      ],
      "metadata": {
        "colab": {
          "base_uri": "https://localhost:8080/"
        },
        "id": "I_Z-AWrYfAsV",
        "outputId": "051aa6ba-4c1d-4e10-f3a6-aca687dd28df"
      },
      "execution_count": 40,
      "outputs": [
        {
          "output_type": "stream",
          "name": "stdout",
          "text": [
            "Showing recommendations for users: 5\n",
            "===========================\n",
            "Anime with high ratings from user\n",
            "--------------------------------\n",
            "Gintama&#039; : Action, Comedy, Historical, Parody, Samurai, Sci-Fi, Shounen\n",
            "Gintama Movie: Kanketsu-hen - Yorozuya yo Eien Nare : Action, Comedy, Historical, Parody, Samurai, Sci-Fi, Shounen\n",
            "Haikyuu!! Second Season : Comedy, Drama, School, Shounen, Sports\n",
            "Great Teacher Onizuka : Comedy, Drama, School, Shounen, Slice of Life\n",
            "Stranger: Mukou Hadan : Action, Adventure, Historical, Samurai\n",
            "--------------------------------\n",
            "Top 10 anime recommendation\n",
            "--------------------------------\n",
            "Clannad: After Story : Drama, Fantasy, Romance, Slice of Life, Supernatural\n",
            "Ookami Kodomo no Ame to Yuki : Fantasy, Slice of Life\n",
            "Shingeki no Kyojin : Action, Drama, Fantasy, Shounen, Super Power\n",
            "Sakamichi no Apollon : Drama, Josei, Music, Romance, School\n",
            "Kuroko no Basket : Comedy, School, Shounen, Sports\n",
            "Neon Genesis Evangelion: The End of Evangelion : Dementia, Drama, Mecha, Psychological, Sci-Fi\n",
            "Shoujo Kakumei Utena : Drama, Fantasy, Psychological, Shoujo\n",
            "Kurenai no Buta : Action, Adventure, Comedy, Drama, Historical, Military, Romance\n",
            "Muumindani no Suisei : Adventure, Comedy, Fantasy, Kids\n",
            "Ayashi no Ceres : Adventure, Comedy, Drama, Horror, Psychological, Romance, Shoujo, Supernatural\n"
          ]
        }
      ]
    }
  ]
}